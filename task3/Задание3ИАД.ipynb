{
 "nbformat": 4,
 "nbformat_minor": 0,
 "metadata": {
  "colab": {
   "name": "Задание3ИАД.ipynb",
   "provenance": [],
   "collapsed_sections": []
  },
  "kernelspec": {
   "name": "python3",
   "language": "python",
   "display_name": "Python 3 (ipykernel)"
  },
  "language_info": {
   "name": "python"
  }
 },
 "cells": [
  {
   "cell_type": "code",
   "source": [
    "import warnings\n",
    "warnings.filterwarnings('ignore')"
   ],
   "metadata": {
    "id": "p41tv6DRBq3v"
   },
   "execution_count": 68,
   "outputs": []
  },
  {
   "cell_type": "markdown",
   "source": [
    "### Импорт библиотек"
   ],
   "metadata": {
    "id": "BvlBvTDIn371"
   }
  },
  {
   "cell_type": "code",
   "execution_count": 69,
   "metadata": {
    "id": "VB-0IuuFnwtp"
   },
   "outputs": [],
   "source": [
    "# Импорт библиотек для проведения расчетов\n",
    "import pandas as pd\n",
    "import numpy as np\n",
    "from sklearn.preprocessing import StandardScaler\n",
    "from sklearn.preprocessing import QuantileTransformer\n",
    "from sklearn.decomposition import PCA\n",
    "\n",
    "from sklearn.model_selection import train_test_split\n",
    "from sklearn.pipeline import Pipeline\n",
    "from sklearn.preprocessing import FunctionTransformer\n",
    "from sklearn.metrics import mean_squared_error"
   ]
  },
  {
   "cell_type": "code",
   "source": [
    "# Импорт библиотек для визуализации\n",
    "from matplotlib import pyplot as plt\n",
    "plt.rcParams[\"figure.figsize\"] = (12, 12)\n",
    "import seaborn as sns"
   ],
   "metadata": {
    "id": "waEHhJ88dGHf"
   },
   "execution_count": 70,
   "outputs": []
  },
  {
   "cell_type": "code",
   "source": [
    "# Импорт библиотеки кластеризации переменных\n",
    "# https://pypi.org/project/varclushi/\n",
    "! pip install varclushi\n",
    "from varclushi import VarClusHi"
   ],
   "metadata": {
    "id": "wgo080PnQxUS",
    "colab": {
     "base_uri": "https://localhost:8080/"
    },
    "outputId": "4e9f2b7e-5073-45c4-8b08-ff435ec5805a"
   },
   "execution_count": 71,
   "outputs": [
    {
     "name": "stdout",
     "output_type": "stream",
     "text": [
      "Requirement already satisfied: varclushi in ./venv/lib/python3.8/site-packages (0.1.0)\r\n",
      "Requirement already satisfied: numpy in ./venv/lib/python3.8/site-packages (from varclushi) (1.22.3)\r\n",
      "Requirement already satisfied: factor-analyzer==0.3.1 in ./venv/lib/python3.8/site-packages (from varclushi) (0.3.1)\r\n",
      "Requirement already satisfied: pandas in ./venv/lib/python3.8/site-packages (from varclushi) (1.4.2)\r\n",
      "Requirement already satisfied: scikit-learn in ./venv/lib/python3.8/site-packages (from factor-analyzer==0.3.1->varclushi) (1.0.2)\r\n",
      "Requirement already satisfied: scipy in ./venv/lib/python3.8/site-packages (from factor-analyzer==0.3.1->varclushi) (1.8.0)\r\n",
      "Requirement already satisfied: python-dateutil>=2.8.1 in ./venv/lib/python3.8/site-packages (from pandas->varclushi) (2.8.2)\r\n",
      "Requirement already satisfied: pytz>=2020.1 in ./venv/lib/python3.8/site-packages (from pandas->varclushi) (2022.1)\r\n",
      "Requirement already satisfied: six>=1.5 in ./venv/lib/python3.8/site-packages (from python-dateutil>=2.8.1->pandas->varclushi) (1.16.0)\r\n",
      "Requirement already satisfied: joblib>=0.11 in ./venv/lib/python3.8/site-packages (from scikit-learn->factor-analyzer==0.3.1->varclushi) (1.1.0)\r\n",
      "Requirement already satisfied: threadpoolctl>=2.0.0 in ./venv/lib/python3.8/site-packages (from scikit-learn->factor-analyzer==0.3.1->varclushi) (3.1.0)\r\n",
      "\u001B[33mWARNING: You are using pip version 21.1.2; however, version 22.0.4 is available.\r\n",
      "You should consider upgrading via the '/home/vladimir/programming/iabd/task3/venv/bin/python -m pip install --upgrade pip' command.\u001B[0m\r\n"
     ]
    }
   ]
  },
  {
   "cell_type": "markdown",
   "source": [
    "## Загрузка данных"
   ],
   "metadata": {
    "id": "E79qR3s7n_1X"
   }
  },
  {
   "cell_type": "code",
   "source": [
    "# Указываем путь к файлу\n",
    "# При работе с google colab существует 2 варианта загрузки файла:\n",
    "# 1. Через google drive\n",
    "# 2. Через левое меню: \"файлы\" -> \"загрузить в сессионное хранилище\" -> \"скопировать файл\" (при наведении на файл)\n",
    "file_path = 'white_wine.csv'"
   ],
   "metadata": {
    "id": "jtYmPhhDoCQI"
   },
   "execution_count": 72,
   "outputs": []
  },
  {
   "cell_type": "code",
   "source": [
    "# Загружаем данные из SAS файла\n",
    "df = pd.read_csv(file_path)\n",
    "df = df.astype('float')\n",
    "# Пример данных\n",
    "df.columns = [x.strip() for x in df.columns]\n",
    "df.head()"
   ],
   "metadata": {
    "id": "E8LgzOBwoKsT",
    "colab": {
     "base_uri": "https://localhost:8080/",
     "height": 206
    },
    "outputId": "6f7a217a-a0a5-4150-cab0-ef46616dcf15"
   },
   "execution_count": 73,
   "outputs": [
    {
     "data": {
      "text/plain": "   fixed acidity  volatile acidity  citric acid  sugar  chlorides  \\\n0            7.0              0.27         0.36   20.7      0.045   \n1            6.3              0.30         0.34    1.6      0.049   \n2            8.1              0.28         0.40    6.9      0.050   \n3            7.2              0.23         0.32    8.5      0.058   \n4            7.2              0.23         0.32    8.5      0.058   \n\n   free sulfur dioxide  total sulfur dioxide  density    pH  sulphates  \\\n0                 45.0                 170.0   1.0010  3.00       0.45   \n1                 14.0                 132.0   0.9940  3.30       0.49   \n2                 30.0                  97.0   0.9951  3.26       0.44   \n3                 47.0                 186.0   0.9956  3.19       0.40   \n4                 47.0                 186.0   0.9956  3.19       0.40   \n\n   alcohol  target_quality  \n0      8.8             6.0  \n1      9.5             6.0  \n2     10.1             6.0  \n3      9.9             6.0  \n4      9.9             6.0  ",
      "text/html": "<div>\n<style scoped>\n    .dataframe tbody tr th:only-of-type {\n        vertical-align: middle;\n    }\n\n    .dataframe tbody tr th {\n        vertical-align: top;\n    }\n\n    .dataframe thead th {\n        text-align: right;\n    }\n</style>\n<table border=\"1\" class=\"dataframe\">\n  <thead>\n    <tr style=\"text-align: right;\">\n      <th></th>\n      <th>fixed acidity</th>\n      <th>volatile acidity</th>\n      <th>citric acid</th>\n      <th>sugar</th>\n      <th>chlorides</th>\n      <th>free sulfur dioxide</th>\n      <th>total sulfur dioxide</th>\n      <th>density</th>\n      <th>pH</th>\n      <th>sulphates</th>\n      <th>alcohol</th>\n      <th>target_quality</th>\n    </tr>\n  </thead>\n  <tbody>\n    <tr>\n      <th>0</th>\n      <td>7.0</td>\n      <td>0.27</td>\n      <td>0.36</td>\n      <td>20.7</td>\n      <td>0.045</td>\n      <td>45.0</td>\n      <td>170.0</td>\n      <td>1.0010</td>\n      <td>3.00</td>\n      <td>0.45</td>\n      <td>8.8</td>\n      <td>6.0</td>\n    </tr>\n    <tr>\n      <th>1</th>\n      <td>6.3</td>\n      <td>0.30</td>\n      <td>0.34</td>\n      <td>1.6</td>\n      <td>0.049</td>\n      <td>14.0</td>\n      <td>132.0</td>\n      <td>0.9940</td>\n      <td>3.30</td>\n      <td>0.49</td>\n      <td>9.5</td>\n      <td>6.0</td>\n    </tr>\n    <tr>\n      <th>2</th>\n      <td>8.1</td>\n      <td>0.28</td>\n      <td>0.40</td>\n      <td>6.9</td>\n      <td>0.050</td>\n      <td>30.0</td>\n      <td>97.0</td>\n      <td>0.9951</td>\n      <td>3.26</td>\n      <td>0.44</td>\n      <td>10.1</td>\n      <td>6.0</td>\n    </tr>\n    <tr>\n      <th>3</th>\n      <td>7.2</td>\n      <td>0.23</td>\n      <td>0.32</td>\n      <td>8.5</td>\n      <td>0.058</td>\n      <td>47.0</td>\n      <td>186.0</td>\n      <td>0.9956</td>\n      <td>3.19</td>\n      <td>0.40</td>\n      <td>9.9</td>\n      <td>6.0</td>\n    </tr>\n    <tr>\n      <th>4</th>\n      <td>7.2</td>\n      <td>0.23</td>\n      <td>0.32</td>\n      <td>8.5</td>\n      <td>0.058</td>\n      <td>47.0</td>\n      <td>186.0</td>\n      <td>0.9956</td>\n      <td>3.19</td>\n      <td>0.40</td>\n      <td>9.9</td>\n      <td>6.0</td>\n    </tr>\n  </tbody>\n</table>\n</div>"
     },
     "execution_count": 73,
     "metadata": {},
     "output_type": "execute_result"
    }
   ]
  },
  {
   "cell_type": "markdown",
   "source": [
    "## Функции обработки"
   ],
   "metadata": {
    "id": "do4hZydVE-Mx"
   }
  },
  {
   "cell_type": "code",
   "source": [
    "# Метод главных компонент\n",
    "def pca_transform(X, transform = []):\n",
    "    pca_model = PCA(n_components='mle')\n",
    "    pca_model.fit(X)\n",
    "\n",
    "    if transform == []:\n",
    "        transform = [X]\n",
    "    return [pca_model.transform(t) for t in transform]"
   ],
   "metadata": {
    "id": "WFFnRUa7bghT"
   },
   "execution_count": 74,
   "outputs": []
  },
  {
   "cell_type": "code",
   "source": [
    "# Кластеризация переменных\n",
    "def variable_clustering(X, transform = []):\n",
    "    var_clust_model = VarClusHi(X, maxeigval2 = .7, maxclus = None)\n",
    "    var_clust_model.varclus()\n",
    "    var_clust = var_clust_model.rsquare.loc[:, [\"Cluster\",\"Variable\",\"RS_Ratio\"]]\n",
    "    vars = var_clust.sort_values(\"RS_Ratio\").drop_duplicates(['Cluster'],keep='first')[\"Variable\"].to_list()\n",
    "\n",
    "    if transform == []:\n",
    "        transform = [X]\n",
    "    return [t.loc[:, vars] for t in transform]"
   ],
   "metadata": {
    "id": "xkDFlEqVRyX1"
   },
   "execution_count": 75,
   "outputs": []
  },
  {
   "cell_type": "code",
   "source": [
    "# Разделение на обучающую, валидационную и тестовую выборку\n",
    "def data_partition(X, y):\n",
    "    X_train, X_test_val, y_train, y_test_val = train_test_split(X, y, stratify = y, test_size=0.6, random_state=42)\n",
    "    X_val, X_test, y_val, y_test = train_test_split(X_test_val, y_test_val, stratify = y_test_val, test_size=0.5, random_state=42)\n",
    "    return (X_train, y_train, X_val, y_val, X_test, y_test)"
   ],
   "metadata": {
    "id": "PoJOgLC9xylf"
   },
   "execution_count": 76,
   "outputs": []
  },
  {
   "cell_type": "code",
   "source": [
    "# Расчет ошибки прогнозирования\n",
    "def score_model_mae(model, \n",
    "                    X_train, y_train,\n",
    "                    X_val, y_val,\n",
    "                    X_test, y_test):\n",
    "    print(model.__class__.__name__)\n",
    "    print(\"TRAIN MSE: {:f}\".format(mean_squared_error(y_train, model.predict(X_train))))\n",
    "    print(\"VAL MSE: {:f}\".format(mean_squared_error(y_val, model.predict(X_val))))\n",
    "    print(\"TEST MSE: {:f}\".format(mean_squared_error(y_test, model.predict(X_test))))"
   ],
   "metadata": {
    "id": "l3pnB8YFMU5a"
   },
   "execution_count": 77,
   "outputs": []
  },
  {
   "cell_type": "markdown",
   "source": [
    "## Формирование признакового пространства"
   ],
   "metadata": {
    "id": "kw1nPAhesq5q"
   }
  },
  {
   "cell_type": "code",
   "execution_count": 78,
   "outputs": [],
   "source": [
    "# Сформируем признаковое пространство:\n",
    "# Целевая переменная: target_quality. Описывает субъективную оценку качества сорта вина. \n",
    "# Остальные переменные - входные. \n",
    "# Задача – спрогнозировать оценку эксперта в зависимости от объективных химических показателей вина и выявить важные признаки\n",
    "y = df[\"target_quality\"].to_frame()\n",
    "X = df.loc[:, list(set(df.columns) - {\"target_quality\"})]\n",
    "\n",
    "# Дискретизация отклика\n",
    "qtransform = QuantileTransformer(output_distribution='normal', n_quantiles = 5, random_state = 42)\n",
    "y.values[:] = qtransform.fit_transform(y)"
   ],
   "metadata": {
    "collapsed": false,
    "pycharm": {
     "name": "#%%\n"
    }
   }
  },
  {
   "cell_type": "markdown",
   "source": [
    "## Часть 1: KNN"
   ],
   "metadata": {
    "id": "l9YYUjBdswjQ"
   }
  },
  {
   "cell_type": "code",
   "source": [
    "from sklearn.neighbors import KNeighborsRegressor\n",
    "\n",
    "X_train, y_train, X_val, y_val, X_test, y_test = data_partition(X, y)\n",
    "\n",
    "# Стандартизация\n",
    "scaler = StandardScaler()\n",
    "scaler.fit(X_train)\n",
    "for X_ in (X_train, X_val, X_test):\n",
    "    X_.values[:] = scaler.transform(X_)\n",
    "\n",
    "# PCA или Variable clustring (вставьте свой код)\n",
    "X_train, X_val, X_test = variable_clustering(X_train, [X_train, X_val, X_test])\n",
    "\n",
    "# KNN \n",
    "knn = KNeighborsRegressor(n_neighbors=20)\n",
    "knn.fit(X_train, y_train)\n",
    "\n",
    "# Score\n",
    "score_model_mae(knn, X_train, y_train, X_val, y_val, X_test, y_test)"
   ],
   "metadata": {
    "colab": {
     "base_uri": "https://localhost:8080/"
    },
    "id": "tw0XDXzns9V3",
    "outputId": "c00502be-d844-4678-e39c-aec0bb09dd13"
   },
   "execution_count": 79,
   "outputs": [
    {
     "name": "stdout",
     "output_type": "stream",
     "text": [
      "KNeighborsRegressor\n",
      "TRAIN MSE: 0.413794\n",
      "VAL MSE: 0.450412\n",
      "TEST MSE: 0.432806\n"
     ]
    }
   ]
  },
  {
   "cell_type": "markdown",
   "source": [
    "### Вопросы части 1:\n",
    "\n",
    "1. Какие значения MSE получились на тренировочном, валидационном и тестовом наборе данных?\n",
    "2. Перед применением KNN вставьте предобработку PCA (Вариант I), Variable clustering (Вариант II). \n",
    "3. Сколько переменных теперь передается на вход KNN? Как изменились значения MSE в результате? Почему это могло произойти?"
   ],
   "metadata": {
    "id": "KbTrtDyoYY5l"
   }
  },
  {
   "cell_type": "markdown",
   "source": [
    "### Q1.1"
   ],
   "metadata": {
    "collapsed": false,
    "pycharm": {
     "name": "#%% md\n"
    }
   }
  },
  {
   "cell_type": "markdown",
   "source": [
    "0.385404, 0.441951, 0.402548\n",
    "\n",
    "### Q1.3"
   ],
   "metadata": {
    "collapsed": false,
    "pycharm": {
     "name": "#%% md\n"
    }
   }
  },
  {
   "cell_type": "code",
   "execution_count": 80,
   "outputs": [
    {
     "name": "stdout",
     "output_type": "stream",
     "text": [
      "7\n"
     ]
    }
   ],
   "source": [
    "print(len(X_train.iloc[0]))"
   ],
   "metadata": {
    "collapsed": false,
    "pycharm": {
     "name": "#%%\n"
    }
   }
  },
  {
   "cell_type": "markdown",
   "source": [
    "Теперь количество признаков стало 7.\n",
    "Значения MSE увеличились на всех наборах данных.\n",
    "Это могло произойти из-за того, что была выкинута часть важной информации необходимой для классификации, возможно\n",
    "необходимо было оставить больше переменных.\n",
    "\n",
    "## Часть 2: Regression"
   ],
   "metadata": {
    "collapsed": false
   }
  },
  {
   "cell_type": "code",
   "source": [
    "from sklearn.preprocessing import MinMaxScaler\n",
    "from sklearn.preprocessing import PolynomialFeatures\n",
    "from sklearn.linear_model import LinearRegression\n",
    "from sklearn.feature_selection import SequentialFeatureSelector\n",
    "import statsmodels.api as sm\n",
    "# Документация для OLS\n",
    "# https://bookdown.org/mike/data_analysis/ordinary-least-squares.html\n",
    "\n",
    "X_train, y_train, X_val, y_val, X_test, y_test = data_partition(X, y)\n",
    "\n",
    "# MinMax стандартизация (вставьте свой код)\n",
    "scaler = MinMaxScaler()\n",
    "scaler.fit(X_train)\n",
    "for X_ in (X_train, X_val, X_test):\n",
    "    X_.values[:] = scaler.transform(X_)"
   ],
   "metadata": {
    "id": "v-tCK0jas8O6"
   },
   "execution_count": 88,
   "outputs": []
  },
  {
   "cell_type": "code",
   "execution_count": 89,
   "outputs": [
    {
     "data": {
      "text/plain": "<Figure size 864x864 with 1 Axes>",
      "image/png": "[encoded data removed]"
     },
     "metadata": {
      "needs_background": "light"
     },
     "output_type": "display_data"
    },
    {
     "name": "stdout",
     "output_type": "stream",
     "text": [
      "LinearRegression\n",
      "TRAIN MSE: 0.420403\n",
      "VAL MSE: 0.411562\n",
      "TEST MSE: 0.417528\n"
     ]
    }
   ],
   "source": [
    "# Построим полиномиальную регрессию (degree = 2)\n",
    "\n",
    "# Отобразмим пространство признаков в пространство полиномов степени 2\n",
    "poly_reg = PolynomialFeatures(degree=2)\n",
    "X_train = poly_reg.fit_transform(X_train)\n",
    "X_val = poly_reg.transform(X_val)\n",
    "X_test = poly_reg.transform(X_test)\n",
    "\n",
    "# Определим лучшее число признаков с помощью Backward (измените код для отбора с помощью Forward)\n",
    "best_feats = None\n",
    "features = list(range(X_train.shape[1]))\n",
    "errs = []\n",
    "\n",
    "# while len(features) > 0:\n",
    "#     lr = LinearRegression()\n",
    "#     lr.fit(X_train[:, features], y_train)\n",
    "#     err = mean_squared_error(y_val, lr.predict(X_val[:, features]))\n",
    "#     errs.append(err)\n",
    "#     if min(errs) == err:\n",
    "#         best_feats = features.copy()\n",
    "#\n",
    "#     model = sm.OLS(y_train, X_train[:, features])\n",
    "#     res = model.fit()\n",
    "#\n",
    "#     # Выбираем худший признак и удаляем из пространства признаков\n",
    "#     worse_feature = features[np.argmax(res.pvalues)]\n",
    "#     features.remove(worse_feature)\n",
    "\n",
    "selected = []\n",
    "while len(features) > 0:\n",
    "    cur_min = float(\"+inf\")\n",
    "    cur_best_f = features[0]\n",
    "    for f in features:\n",
    "        lr = LinearRegression()\n",
    "        lr.fit(X_train[:, selected + [f]], y_train)\n",
    "        err = mean_squared_error(y_val, lr.predict(X_val[:, selected + [f]]))\n",
    "        if err < cur_min:\n",
    "            cur_min, cur_best_f = err, f\n",
    "\n",
    "    features.remove(cur_best_f)\n",
    "    selected.append(cur_best_f)\n",
    "    errs.append(cur_min)\n",
    "    if min(errs) == cur_min:\n",
    "        best_feats = selected.copy()\n",
    "\n",
    "# Визуализируем ошибки\n",
    "# idx = len(errs) - len(best_feats)\n",
    "idx = len(best_feats)\n",
    "plt.plot(errs)\n",
    "plt.plot(idx, errs[idx], 'P', ms=10, mfc='red')\n",
    "plt.xlabel(\"Номер итерации\")\n",
    "plt.ylabel(\"MSE\")\n",
    "plt.title(\"Ошибка при отборе признаков методом Backward\")\n",
    "plt.show()\n",
    "\n",
    "# Обучим линейную регрессию на лучших признаках\n",
    "lr = LinearRegression()\n",
    "lr.fit(X_train[:, best_feats], y_train)\n",
    "\n",
    "score_model_mae(lr, \n",
    "                X_train[:, best_feats], y_train, \n",
    "                X_val[:, best_feats], y_val, \n",
    "                X_test[:, best_feats], y_test)"
   ],
   "metadata": {
    "collapsed": false,
    "pycharm": {
     "name": "#%%\n"
    }
   }
  },
  {
   "cell_type": "markdown",
   "source": [
    "### Вопросы к части 2:\n",
    "\n",
    "1. Аналогично алгоритму выбора признаков Backward, опишите алгоритм Forward\n",
    "2. Какая модель показывает лучшее качество на тестовом наборе? \n",
    "3. Какие переменные не вошли в результирующую регрессионую модель? \n",
    "4. На каком шаге была выбрана лучшая модель?\n",
    "5. С помощью summary() определите какая из вошедших переменных наименее важная с точки зрения t-статистики?\n",
    "\n",
    "5. После разделения данных добавьте MinMaxScaler. Как изменились результаты регрессионной модели с точки числа степеней свободы и значения MSE на тестовом наборе?"
   ],
   "metadata": {
    "id": "kRsF4BAMXxfo"
   }
  },
  {
   "cell_type": "markdown",
   "source": [
    "### Q2.1"
   ],
   "metadata": {
    "collapsed": false
   }
  },
  {
   "cell_type": "markdown",
   "source": [
    "Сначала выбирается переменная, наиболее кореллируюшая с откликом. Проверяется гипотеза о незначимости. Если гипотеза\n",
    "принимается алгоритм останавливается. Если гипотеза отвергается, по всем оставшимся переменным рассчитывается значение\n",
    "статистики, равное отношению прироста суммы квадратов регрессии при добавлении в модель соответствующей переменной.\n",
    "Из всех переменных-претендентов на включение в модель выбирается та, которая имеет наибольшее приращение суммы\n",
    "квадратов. Снова проверяется значимость модели. Далее процесс повторяется.\n",
    "\n",
    "### Q2.2"
   ],
   "metadata": {
    "collapsed": false,
    "pycharm": {
     "name": "#%% md\n"
    }
   }
  },
  {
   "cell_type": "code",
   "execution_count": 83,
   "outputs": [
    {
     "name": "stdout",
     "output_type": "stream",
     "text": [
      "37\n"
     ]
    }
   ],
   "source": [
    "print(len(best_feats))"
   ],
   "metadata": {
    "collapsed": false,
    "pycharm": {
     "name": "#%%\n"
    }
   }
  },
  {
   "cell_type": "markdown",
   "source": [
    "Модель с 37 признаками\n",
    "\n",
    "### Q2.3"
   ],
   "metadata": {
    "collapsed": false
   }
  },
  {
   "cell_type": "code",
   "execution_count": 84,
   "outputs": [
    {
     "name": "stdout",
     "output_type": "stream",
     "text": [
      "pH\n",
      "sulphates\n",
      "total sulfur dioxide\n",
      "fixed acidity\n",
      "chlorides\n",
      "free sulfur dioxide\n"
     ]
    }
   ],
   "source": [
    "indexes = [x for x in range(X_train.shape[1]) if x not in best_feats]\n",
    "powers = [poly_reg.get_feature_names()[i] for i in indexes]\n",
    "for p in powers:\n",
    "    try:\n",
    "        i = int(p[1:])\n",
    "    except ValueError:\n",
    "        continue\n",
    "    print(X.columns[i])"
   ],
   "metadata": {
    "collapsed": false,
    "pycharm": {
     "name": "#%%\n"
    }
   }
  },
  {
   "cell_type": "markdown",
   "source": [
    "### Q2.4"
   ],
   "metadata": {
    "collapsed": false
   }
  },
  {
   "cell_type": "code",
   "execution_count": 85,
   "outputs": [
    {
     "name": "stdout",
     "output_type": "stream",
     "text": [
      "37\n"
     ]
    }
   ],
   "source": [
    "print(idx)"
   ],
   "metadata": {
    "collapsed": false,
    "pycharm": {
     "name": "#%%\n"
    }
   }
  },
  {
   "cell_type": "markdown",
   "source": [
    "### Q2.5"
   ],
   "metadata": {
    "collapsed": false,
    "pycharm": {
     "name": "#%% md\n"
    }
   }
  },
  {
   "cell_type": "code",
   "execution_count": 93,
   "outputs": [
    {
     "name": "stdout",
     "output_type": "stream",
     "text": [
      "                            OLS Regression Results                            \n",
      "==============================================================================\n",
      "Dep. Variable:         target_quality   R-squared:                       0.284\n",
      "Model:                            OLS   Adj. R-squared:                  0.273\n",
      "Method:                 Least Squares   F-statistic:                     26.35\n",
      "Date:                Thu, 14 Apr 2022   Prob (F-statistic):          6.44e-118\n",
      "Time:                        00:24:04   Log-Likelihood:                -1930.9\n",
      "No. Observations:                1959   AIC:                             3922.\n",
      "Df Residuals:                    1929   BIC:                             4089.\n",
      "Df Model:                          29                                         \n",
      "Covariance Type:            nonrobust                                         \n",
      "==============================================================================\n",
      "                 coef    std err          t      P>|t|      [0.025      0.975]\n",
      "------------------------------------------------------------------------------\n",
      "x1             0.1407      0.649      0.217      0.828      -1.131       1.413\n",
      "x2            -1.3734      0.649     -2.117      0.034      -2.646      -0.101\n",
      "x3             4.3072      1.232      3.496      0.000       1.891       6.723\n",
      "x4             2.0280      0.727      2.788      0.005       0.602       3.454\n",
      "x5            -4.9221      1.558     -3.159      0.002      -7.978      -1.867\n",
      "x6             1.3273      0.503      2.640      0.008       0.341       2.313\n",
      "x7            -0.1581      2.129     -0.074      0.941      -4.334       4.018\n",
      "x8             2.9125      1.350      2.157      0.031       0.264       5.560\n",
      "x9             0.1459      1.536      0.095      0.924      -2.866       3.157\n",
      "x10            0.3131      0.813      0.385      0.700      -1.281       1.907\n",
      "x11           -3.8862      0.575     -6.760      0.000      -5.014      -2.759\n",
      "x12            3.3341      0.544      6.125      0.000       2.267       4.402\n",
      "x13           -1.9271      1.254     -1.537      0.124      -4.386       0.532\n",
      "x14           -0.1108      0.468     -0.237      0.813      -1.028       0.806\n",
      "x15           -1.0318      1.320     -0.782      0.434      -3.620       1.556\n",
      "x16            0.6939      0.352      1.971      0.049       0.003       1.384\n",
      "x17           -3.4244      1.563     -2.191      0.029      -6.490      -0.359\n",
      "x18            0.1219      0.887      0.137      0.891      -1.618       1.862\n",
      "x19            0.9192      0.966      0.951      0.342      -0.976       2.815\n",
      "x20           -0.6118      1.570     -0.390      0.697      -3.692       2.468\n",
      "x21           -1.2637      1.756     -0.720      0.472      -4.707       2.179\n",
      "x22           -1.9737      0.804     -2.454      0.014      -3.551      -0.397\n",
      "x23            1.5535      0.954      1.629      0.103      -0.317       3.424\n",
      "x24            3.6105      1.624      2.223      0.026       0.426       6.795\n",
      "x25           -1.8533      1.594     -1.163      0.245      -4.979       1.273\n",
      "x26           -1.7171      1.043     -1.646      0.100      -3.763       0.329\n",
      "x27           -0.8894      1.808     -0.492      0.623      -4.435       2.656\n",
      "x28            0.2020      0.460      0.439      0.661      -0.701       1.105\n",
      "x29            0.5237      0.339      1.543      0.123      -0.142       1.189\n",
      "const         -0.2907      0.277     -1.049      0.294      -0.834       0.253\n",
      "==============================================================================\n",
      "Omnibus:                      946.288   Durbin-Watson:                   2.004\n",
      "Prob(Omnibus):                  0.000   Jarque-Bera (JB):            24023.279\n",
      "Skew:                          -1.717   Prob(JB):                         0.00\n",
      "Kurtosis:                      19.808   Cond. No.                         232.\n",
      "==============================================================================\n",
      "\n",
      "Notes:\n",
      "[1] Standard Errors assume that the covariance matrix of the errors is correctly specified.\n",
      "\n",
      "fixed acidity\n"
     ]
    }
   ],
   "source": [
    "model = sm.OLS(y_train, X_train[:, best_feats])\n",
    "res = model.fit()\n",
    "print(res.summary(), \"\", sep=\"\\n\")\n",
    "powers = poly_reg.get_feature_names()[res.pvalues.argmax()].split(\" \")\n",
    "var_names = []\n",
    "for p in powers:\n",
    "    i = int(p[1:])\n",
    "    var_names.append(X.columns[i])\n",
    "print(*var_names, sep=\" * \")"
   ],
   "metadata": {
    "collapsed": false,
    "pycharm": {
     "name": "#%%\n"
    }
   }
  },
  {
   "cell_type": "markdown",
   "source": [
    "У переменной с номером 1 наибольшее p-value. Эта переменная fixed acidity."
   ],
   "metadata": {
    "collapsed": false,
    "pycharm": {
     "name": "#%% md\n"
    }
   }
  },
  {
   "cell_type": "markdown",
   "source": [
    "### Q2.6"
   ],
   "metadata": {
    "collapsed": false
   }
  },
  {
   "cell_type": "code",
   "execution_count": 95,
   "outputs": [
    {
     "name": "stdout",
     "output_type": "stream",
     "text": [
      "29.0\n"
     ]
    }
   ],
   "source": [
    "print(res.df_model)"
   ],
   "metadata": {
    "collapsed": false,
    "pycharm": {
     "name": "#%%\n"
    }
   }
  },
  {
   "cell_type": "markdown",
   "source": [
    "Число степеней свободы стало 29, было 36.\n",
    "MSE на тестовом наборе стало 0.417528, было 0.405762."
   ],
   "metadata": {
    "collapsed": false,
    "pycharm": {
     "name": "#%% md\n"
    }
   }
  },
  {
   "cell_type": "markdown",
   "source": [
    "##  Часть 3: PLS/PCR"
   ],
   "metadata": {
    "collapsed": false,
    "pycharm": {
     "name": "#%% md\n"
    }
   }
  },
  {
   "cell_type": "code",
   "source": [
    "from sklearn.decomposition import PCA\n",
    "from sklearn.pipeline import make_pipeline\n",
    "from sklearn.cross_decomposition import PLSRegression\n",
    "from sklearn.model_selection import cross_val_predict\n",
    "\n",
    "X_train, y_train, X_val, y_val, X_test, y_test = data_partition(X, y)\n",
    "\n",
    "# Метод PCR представляем в виде комбинации PCA с последующей линейной регрессией\n",
    "pcr = make_pipeline(PCA(n_components=5), LinearRegression())\n",
    "pcr.fit(X_train, y_train)\n",
    "\n",
    "pls = PLSRegression(n_components=5)\n",
    "pls.fit(X_train, y_train)\n",
    "\n",
    "# MSE\n",
    "score_model_mae(pcr, X_train, y_train, X_val, y_val, X_test, y_test)\n",
    "score_model_mae(pls, X_train, y_train, X_val, y_val, X_test, y_test)"
   ],
   "metadata": {
    "colab": {
     "base_uri": "https://localhost:8080/"
    },
    "id": "cx4-rkJGtDEq",
    "outputId": "df1db5e7-92c7-4064-b5b1-6b331e6be177"
   },
   "execution_count": 131,
   "outputs": [
    {
     "name": "stdout",
     "output_type": "stream",
     "text": [
      "Pipeline\n",
      "TRAIN MSE: 0.477364\n",
      "VAL MSE: 0.496493\n",
      "TEST MSE: 0.471302\n",
      "PLSRegression\n",
      "TRAIN MSE: 0.441024\n",
      "VAL MSE: 0.464150\n",
      "TEST MSE: 0.445547\n"
     ]
    }
   ]
  },
  {
   "cell_type": "code",
   "source": [
    "# Необходимо определить лучшее количество компонент\n",
    "\n",
    "def optimise_comp_cv(X, y, n_comp):\n",
    "    # Определяем модель (PLS или PCR)\n",
    "    model = PLSRegression(n_components=n_comp)\n",
    "    # model = make_pipeline(PCA(n_components=n_comp), LinearRegression())\n",
    "\n",
    "    # Расчет ошибки на кросс-валидации\n",
    "    y_cv = cross_val_predict(model, X, y, cv=10)\n",
    "    mse = mean_squared_error(y, y_cv)\n",
    "    return mse\n",
    "\n",
    "# Визуализация MSE\n",
    "def plot_metrics(vals, ylabel, objective, xticks):\n",
    "    plt.plot(xticks, np.array(vals), '-v')\n",
    "    if objective=='min':\n",
    "        idx = np.argmin(vals)\n",
    "    else:\n",
    "        idx = np.argmax(vals)\n",
    "    plt.plot(xticks[idx], np.array(vals)[idx], 'P', ms=10, mfc='red')\n",
    "\n",
    "    plt.xlabel('Количество компонент PLS')\n",
    "    plt.xticks = xticks\n",
    "    plt.ylabel(ylabel)\n",
    "    plt.title('PLS')\n",
    "    plt.show()\n",
    "\n",
    "\n",
    "# Кросс-валидация проводится на обучающей и валидационной выборках\n",
    "X_tr_val = pd.concat([X_train, X_val])\n",
    "y_tr_val = pd.concat([y_train, y_val])\n",
    "mses = []\n",
    "list_components = list(range(1, X_tr_val.shape[1]+1))\n",
    "for n_comp in list_components:\n",
    "    mse = optimise_comp_cv(X_tr_val, y_tr_val, n_comp)\n",
    "    mses.append(mse)\n",
    "plot_metrics(mses, 'MSE', 'min', list_components)"
   ],
   "metadata": {
    "colab": {
     "base_uri": "https://localhost:8080/",
     "height": 295
    },
    "id": "4f-hRwUyTYVf",
    "outputId": "00756e97-c2ac-4be1-8f9d-9e043040110a"
   },
   "execution_count": 146,
   "outputs": [
    {
     "data": {
      "text/plain": "<Figure size 432x288 with 1 Axes>",
      "image/png": "[encoded data removed]"
     },
     "metadata": {
      "needs_background": "light"
     },
     "output_type": "display_data"
    }
   ]
  },
  {
   "cell_type": "markdown",
   "source": [
    "### Вопросы к части 3:\n",
    "\n",
    "1. Сколько компонент было выбрано для моделей PCR и PLS?\n",
    "2. Какое значение MSE модели показывают на тестовом наборе?"
   ],
   "metadata": {
    "id": "UP4cqhXmXkD3"
   }
  },
  {
   "cell_type": "markdown",
   "source": [
    "### Q3.1"
   ],
   "metadata": {
    "collapsed": false
   }
  },
  {
   "cell_type": "code",
   "execution_count": 147,
   "outputs": [
    {
     "name": "stdout",
     "output_type": "stream",
     "text": [
      "6\n"
     ]
    }
   ],
   "source": [
    "print(np.argmin(mses) + 1)"
   ],
   "metadata": {
    "collapsed": false,
    "pycharm": {
     "name": "#%%\n"
    }
   }
  },
  {
   "cell_type": "markdown",
   "source": [
    "6 для PLS, 11 для PCR"
   ],
   "metadata": {
    "collapsed": false,
    "pycharm": {
     "name": "#%% md\n"
    }
   }
  },
  {
   "cell_type": "markdown",
   "source": [
    "### Q3.2"
   ],
   "metadata": {
    "collapsed": false,
    "pycharm": {
     "name": "#%% md\n"
    }
   }
  },
  {
   "cell_type": "code",
   "execution_count": 148,
   "outputs": [
    {
     "name": "stdout",
     "output_type": "stream",
     "text": [
      "0.45249909084953127\n"
     ]
    }
   ],
   "source": [
    "print(min(mses))"
   ],
   "metadata": {
    "collapsed": false,
    "pycharm": {
     "name": "#%%\n"
    }
   }
  },
  {
   "cell_type": "markdown",
   "source": [
    "0.45249909084953127 для PLS, 0.4541625256724278 для PCR"
   ],
   "metadata": {
    "collapsed": false,
    "pycharm": {
     "name": "#%% md\n"
    }
   }
  },
  {
   "cell_type": "markdown",
   "source": [
    "## Часть 4: LARS + LASSO"
   ],
   "metadata": {
    "id": "hpWaP0wJSIUe"
   }
  },
  {
   "cell_type": "code",
   "source": [
    "# Документация LARS+LASSO\n",
    "# https://scikit-learn.org/stable/modules/generated/sklearn.linear_model.LassoLarsIC.html#sklearn.linear_model.LassoLarsIC\n",
    "\n",
    "from sklearn.linear_model import LassoLarsIC\n",
    "\n",
    "X_train, y_train, X_val, y_val, X_test, y_test = data_partition(X, y)\n",
    "\n",
    "X_tr_val = pd.concat([X_train, X_val])\n",
    "y_tr_val = pd.concat([y_train, y_val])\n",
    "reg = LassoLarsIC(criterion='aic', normalize=True, fit_intercept=False)\n",
    "reg.fit(X_tr_val, y_tr_val)\n",
    "\n",
    "score_model_mae(reg, X_train, y_train, X_val, y_val, X_test, y_test)"
   ],
   "metadata": {
    "colab": {
     "base_uri": "https://localhost:8080/"
    },
    "id": "lKU6--y-SHl1",
    "outputId": "d47e7094-a70d-4879-8e69-a9269b219208"
   },
   "execution_count": 216,
   "outputs": [
    {
     "name": "stdout",
     "output_type": "stream",
     "text": [
      "LassoLarsIC\n",
      "TRAIN MSE: 0.443849\n",
      "VAL MSE: 0.461992\n",
      "TEST MSE: 0.441125\n"
     ]
    }
   ]
  },
  {
   "cell_type": "markdown",
   "source": [
    "### Вопросы к части 4:\n",
    "\n",
    "1. Какое значение MSE модель показывает на тестовом наборе? \n",
    "2. Какая пременная была отобрана на первом шаге? \n",
    "3. Сколько всего переменных было отобрано?\n",
    "4. Если бы вместо критерия отбора модели вашего варианта использовался критерий MSE на валидационном наборе, то было бы отобрано больше или меньше переменных?"
   ],
   "metadata": {
    "id": "1XUiDGQOXN0U"
   }
  },
  {
   "cell_type": "markdown",
   "source": [
    "### Q4.1"
   ],
   "metadata": {
    "collapsed": false
   }
  },
  {
   "cell_type": "code",
   "execution_count": 217,
   "outputs": [
    {
     "name": "stdout",
     "output_type": "stream",
     "text": [
      "0.44112476477799695\n"
     ]
    }
   ],
   "source": [
    "print(mean_squared_error(y_test, reg.predict(X_test)))"
   ],
   "metadata": {
    "collapsed": false,
    "pycharm": {
     "name": "#%%\n"
    }
   }
  },
  {
   "cell_type": "markdown",
   "source": [
    "### Q4.2"
   ],
   "metadata": {
    "collapsed": false
   }
  },
  {
   "cell_type": "code",
   "execution_count": 218,
   "outputs": [
    {
     "data": {
      "text/plain": "<Figure size 864x864 with 1 Axes>",
      "image/png": "[encoded data removed]"
     },
     "metadata": {
      "needs_background": "light"
     },
     "output_type": "display_data"
    }
   ],
   "source": [
    "from sklearn import linear_model\n",
    "alphas, _, coefs = linear_model.lars_path(X_tr_val.to_numpy(), y_tr_val.to_numpy().squeeze(), method=\"lasso\")\n",
    "\n",
    "xx = np.sum(np.abs(coefs.T), axis=1)\n",
    "xx /= xx[-1]\n",
    "\n",
    "plt.plot(xx, coefs.T, label=X_tr_val.columns)\n",
    "ymin, ymax = plt.ylim()\n",
    "plt.vlines(xx, ymin, ymax, linestyle=\"dashed\")\n",
    "plt.xlabel(\"|coef| / max|coef|\")\n",
    "plt.ylabel(\"Coefficients\")\n",
    "plt.title(\"LASSO Path\")\n",
    "plt.axis(\"tight\")\n",
    "plt.legend()\n",
    "plt.show();"
   ],
   "metadata": {
    "collapsed": false,
    "pycharm": {
     "name": "#%%\n"
    }
   }
  },
  {
   "cell_type": "code",
   "execution_count": 219,
   "outputs": [
    {
     "name": "stdout",
     "output_type": "stream",
     "text": [
      "total sulfur dioxide\n"
     ]
    }
   ],
   "source": [
    "print(X_tr_val.columns[np.argmax(coefs.T[1])])"
   ],
   "metadata": {
    "collapsed": false,
    "pycharm": {
     "name": "#%%\n"
    }
   }
  },
  {
   "cell_type": "markdown",
   "source": [
    "### Q4.3"
   ],
   "metadata": {
    "collapsed": false,
    "pycharm": {
     "name": "#%% md\n"
    }
   }
  },
  {
   "cell_type": "code",
   "execution_count": 220,
   "outputs": [
    {
     "name": "stdout",
     "output_type": "stream",
     "text": [
      "9\n"
     ]
    }
   ],
   "source": [
    "print(len(*reg.coef_.nonzero()))"
   ],
   "metadata": {
    "collapsed": false,
    "pycharm": {
     "name": "#%%\n"
    }
   }
  },
  {
   "cell_type": "markdown",
   "source": [
    "### Q4.4"
   ],
   "metadata": {
    "collapsed": false,
    "pycharm": {
     "name": "#%% md\n"
    }
   }
  },
  {
   "cell_type": "code",
   "execution_count": 231,
   "outputs": [
    {
     "name": "stdout",
     "output_type": "stream",
     "text": [
      "9\n"
     ]
    }
   ],
   "source": [
    "mses = []\n",
    "for cfs, alpha in zip(coefs.T, alphas):\n",
    "    lm = linear_model.Lasso(alpha=alpha, fit_intercept=False)\n",
    "    lm.coef_ = cfs\n",
    "    lm.intercept_ = 0\n",
    "    mses.append(mean_squared_error(y_test, lm.predict(X_test)))\n",
    "\n",
    "print(len(*(coefs.T[np.argmin(mses)].nonzero())))"
   ],
   "metadata": {
    "collapsed": false,
    "pycharm": {
     "name": "#%%\n"
    }
   }
  },
  {
   "cell_type": "markdown",
   "source": [
    "## Общие вопросы:\n",
    "\n",
    "1. Зачем при разделении выборкок проводится стратификация по целевой переменной?\n",
    "2. Какая модель показала лучшее значение MSE на тестовой выборке?"
   ],
   "metadata": {
    "id": "hpWqSD3xCNJQ"
   }
  },
  {
   "cell_type": "markdown",
   "source": [
    "### Q5.1"
   ],
   "metadata": {
    "collapsed": false
   }
  },
  {
   "cell_type": "markdown",
   "source": [
    "При разделении выборкок проводится стратификация по целевой переменной, чтобы сохранить распределение целевой\n",
    "переменной в выборках. В противном случае обученная на тренировочной выборке модель может дать резьтат заметно хуже\n",
    "на тестовой выборке."
   ],
   "metadata": {
    "collapsed": false,
    "pycharm": {
     "name": "#%% md\n"
    }
   }
  },
  {
   "cell_type": "markdown",
   "source": [
    "### Q5.2"
   ],
   "metadata": {
    "collapsed": false,
    "pycharm": {
     "name": "#%% md\n"
    }
   }
  },
  {
   "cell_type": "markdown",
   "source": [
    "Лучший результат на тестовой выборке дала полиномиальная регрессия."
   ],
   "metadata": {
    "collapsed": false,
    "pycharm": {
     "name": "#%% md\n"
    }
   }
  }
 ]
}