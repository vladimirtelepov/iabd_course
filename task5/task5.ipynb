{
 "cells": [
  {
   "cell_type": "code",
   "execution_count": 1,
   "metadata": {
    "collapsed": true
   },
   "outputs": [],
   "source": [
    "import numpy as np\n",
    "import pandas as pd\n",
    "from sklearn import svm\n",
    "from sklearn.model_selection import GridSearchCV\n",
    "from sklearn.preprocessing import StandardScaler\n",
    "from sklearn.linear_model import LogisticRegression\n",
    "from sklearn.metrics import make_scorer, roc_auc_score\n",
    "from lightgbm import LGBMClassifier"
   ]
  },
  {
   "cell_type": "code",
   "execution_count": 2,
   "outputs": [],
   "source": [
    "import warnings\n",
    "warnings.filterwarnings(\"ignore\")"
   ],
   "metadata": {
    "collapsed": false,
    "pycharm": {
     "name": "#%%\n"
    }
   }
  },
  {
   "cell_type": "code",
   "execution_count": 3,
   "outputs": [
    {
     "name": "stdout",
     "output_type": "stream",
     "text": [
      "<class 'pandas.core.frame.DataFrame'>\n",
      "RangeIndex: 5310 entries, 0 to 5309\n",
      "Data columns (total 49 columns):\n",
      " #   Column   Non-Null Count  Dtype  \n",
      "---  ------   --------------  -----  \n",
      " 0   ACCTAGE  4962 non-null   float64\n",
      " 1   AGE      4228 non-null   float64\n",
      " 2   ATM      5310 non-null   float64\n",
      " 3   ATMAMT   5310 non-null   float64\n",
      " 4   BRANCH   5310 non-null   object \n",
      " 5   CASHBK   5310 non-null   float64\n",
      " 6   CC       4647 non-null   float64\n",
      " 7   CCBAL    4647 non-null   float64\n",
      " 8   CCPURC   4647 non-null   float64\n",
      " 9   CD       5310 non-null   float64\n",
      " 10  CDBAL    5310 non-null   float64\n",
      " 11  CHECKS   5310 non-null   float64\n",
      " 12  CRSCORE  5198 non-null   float64\n",
      " 13  DDA      5310 non-null   float64\n",
      " 14  DDABAL   5310 non-null   float64\n",
      " 15  DEP      5310 non-null   float64\n",
      " 16  DEPAMT   5310 non-null   float64\n",
      " 17  DIRDEP   5310 non-null   float64\n",
      " 18  HMOWN    4376 non-null   float64\n",
      " 19  HMVAL    4321 non-null   float64\n",
      " 20  ILS      5310 non-null   float64\n",
      " 21  ILSBAL   5310 non-null   float64\n",
      " 22  INAREA   5310 non-null   float64\n",
      " 23  INCOME   4321 non-null   float64\n",
      " 24  INV      4647 non-null   float64\n",
      " 25  INVBAL   4647 non-null   float64\n",
      " 26  IRA      5310 non-null   float64\n",
      " 27  IRABAL   5310 non-null   float64\n",
      " 28  LOC      5310 non-null   float64\n",
      " 29  LOCBAL   5310 non-null   float64\n",
      " 30  LORES    4321 non-null   float64\n",
      " 31  MM       5310 non-null   float64\n",
      " 32  MMBAL    5310 non-null   float64\n",
      " 33  MMCRED   5310 non-null   float64\n",
      " 34  MOVED    5310 non-null   float64\n",
      " 35  MTG      5310 non-null   float64\n",
      " 36  MTGBAL   5310 non-null   float64\n",
      " 37  NSF      5310 non-null   float64\n",
      " 38  NSFAMT   5310 non-null   float64\n",
      " 39  PHONE    4647 non-null   float64\n",
      " 40  POS      4647 non-null   float64\n",
      " 41  POSAMT   4647 non-null   float64\n",
      " 42  RES      5310 non-null   object \n",
      " 43  SAV      5310 non-null   float64\n",
      " 44  SAVBAL   5310 non-null   float64\n",
      " 45  SDB      5310 non-null   float64\n",
      " 46  TELLER   5310 non-null   float64\n",
      " 47  id       5310 non-null   int64  \n",
      " 48  INS      5310 non-null   float64\n",
      "dtypes: float64(46), int64(1), object(2)\n",
      "memory usage: 2.0+ MB\n"
     ]
    }
   ],
   "source": [
    "df_test = pd.read_csv(\"TestSample.csv\")\n",
    "df_train = pd.read_csv(\"TestSample.csv\")\n",
    "df_train.info()"
   ],
   "metadata": {
    "collapsed": false,
    "pycharm": {
     "name": "#%%\n"
    }
   }
  },
  {
   "cell_type": "code",
   "execution_count": 4,
   "outputs": [
    {
     "name": "stdout",
     "output_type": "stream",
     "text": [
      "<class 'pandas.core.frame.DataFrame'>\n",
      "RangeIndex: 5310 entries, 0 to 5309\n",
      "Data columns (total 49 columns):\n",
      " #   Column   Non-Null Count  Dtype  \n",
      "---  ------   --------------  -----  \n",
      " 0   ACCTAGE  4962 non-null   float64\n",
      " 1   AGE      4228 non-null   float64\n",
      " 2   ATM      5310 non-null   float64\n",
      " 3   ATMAMT   5310 non-null   float64\n",
      " 4   BRANCH   5310 non-null   object \n",
      " 5   CASHBK   5310 non-null   float64\n",
      " 6   CC       4647 non-null   float64\n",
      " 7   CCBAL    4647 non-null   float64\n",
      " 8   CCPURC   4647 non-null   float64\n",
      " 9   CD       5310 non-null   float64\n",
      " 10  CDBAL    5310 non-null   float64\n",
      " 11  CHECKS   5310 non-null   float64\n",
      " 12  CRSCORE  5198 non-null   float64\n",
      " 13  DDA      5310 non-null   float64\n",
      " 14  DDABAL   5310 non-null   float64\n",
      " 15  DEP      5310 non-null   float64\n",
      " 16  DEPAMT   5310 non-null   float64\n",
      " 17  DIRDEP   5310 non-null   float64\n",
      " 18  HMOWN    4376 non-null   float64\n",
      " 19  HMVAL    4321 non-null   float64\n",
      " 20  ILS      5310 non-null   float64\n",
      " 21  ILSBAL   5310 non-null   float64\n",
      " 22  INAREA   5310 non-null   float64\n",
      " 23  INCOME   4321 non-null   float64\n",
      " 24  INV      4647 non-null   float64\n",
      " 25  INVBAL   4647 non-null   float64\n",
      " 26  IRA      5310 non-null   float64\n",
      " 27  IRABAL   5310 non-null   float64\n",
      " 28  LOC      5310 non-null   float64\n",
      " 29  LOCBAL   5310 non-null   float64\n",
      " 30  LORES    4321 non-null   float64\n",
      " 31  MM       5310 non-null   float64\n",
      " 32  MMBAL    5310 non-null   float64\n",
      " 33  MMCRED   5310 non-null   float64\n",
      " 34  MOVED    5310 non-null   float64\n",
      " 35  MTG      5310 non-null   float64\n",
      " 36  MTGBAL   5310 non-null   float64\n",
      " 37  NSF      5310 non-null   float64\n",
      " 38  NSFAMT   5310 non-null   float64\n",
      " 39  PHONE    4647 non-null   float64\n",
      " 40  POS      4647 non-null   float64\n",
      " 41  POSAMT   4647 non-null   float64\n",
      " 42  RES      5310 non-null   object \n",
      " 43  SAV      5310 non-null   float64\n",
      " 44  SAVBAL   5310 non-null   float64\n",
      " 45  SDB      5310 non-null   float64\n",
      " 46  TELLER   5310 non-null   float64\n",
      " 47  id       5310 non-null   int64  \n",
      " 48  INS      5310 non-null   float64\n",
      "dtypes: float64(46), int64(1), object(2)\n",
      "memory usage: 2.0+ MB\n"
     ]
    }
   ],
   "source": [
    "df_test.info();"
   ],
   "metadata": {
    "collapsed": false,
    "pycharm": {
     "name": "#%%\n"
    }
   }
  },
  {
   "cell_type": "code",
   "execution_count": 5,
   "outputs": [
    {
     "data": {
      "text/plain": "<Figure size 432x288 with 1 Axes>",
      "image/png": "[encoded data removed]"
     },
     "metadata": {
      "needs_background": "light"
     },
     "output_type": "display_data"
    }
   ],
   "source": [
    "df_train[\"INS\"].hist();"
   ],
   "metadata": {
    "collapsed": false,
    "pycharm": {
     "name": "#%%\n"
    }
   }
  },
  {
   "cell_type": "markdown",
   "source": [
    "Fill missed values and preprocess features"
   ],
   "metadata": {
    "collapsed": false
   }
  },
  {
   "cell_type": "code",
   "execution_count": 6,
   "outputs": [],
   "source": [
    "feats_b = []\n",
    "feats_c = []\n",
    "feats_n = []"
   ],
   "metadata": {
    "collapsed": false,
    "pycharm": {
     "name": "#%%\n"
    }
   }
  },
  {
   "cell_type": "code",
   "execution_count": 7,
   "outputs": [],
   "source": [
    "def print_info(f):\n",
    "    print(df_train[f].describe(percentiles=(0.5, 0.75, 0.9)))\n",
    "    print(\"uniq\", len(df_train[f].unique()))\n",
    "    df_train[f].hist()"
   ],
   "metadata": {
    "collapsed": false,
    "pycharm": {
     "name": "#%%\n"
    }
   }
  },
  {
   "cell_type": "code",
   "execution_count": 8,
   "outputs": [
    {
     "name": "stdout",
     "output_type": "stream",
     "text": [
      "count    4962.000000\n",
      "mean        6.087485\n",
      "std         6.741748\n",
      "min         0.300000\n",
      "50%         4.000000\n",
      "75%         7.200000\n",
      "90%        15.000000\n",
      "max        56.300000\n",
      "Name: ACCTAGE, dtype: float64\n",
      "uniq 332\n"
     ]
    },
    {
     "data": {
      "text/plain": "<Figure size 432x288 with 1 Axes>",
      "image/png": "[encoded data removed]"
     },
     "metadata": {
      "needs_background": "light"
     },
     "output_type": "display_data"
    }
   ],
   "source": [
    "print_info(\"ACCTAGE\")"
   ],
   "metadata": {
    "collapsed": false,
    "pycharm": {
     "name": "#%%\n"
    }
   }
  },
  {
   "cell_type": "code",
   "execution_count": 9,
   "outputs": [],
   "source": [
    "df_train[\"ACCTAGE\"].fillna(0, inplace=True)\n",
    "df_test[\"ACCTAGE\"].fillna(0, inplace=True)\n",
    "feats_n.append(\"ACCTAGE\")"
   ],
   "metadata": {
    "collapsed": false,
    "pycharm": {
     "name": "#%%\n"
    }
   }
  },
  {
   "cell_type": "code",
   "execution_count": 10,
   "outputs": [
    {
     "name": "stdout",
     "output_type": "stream",
     "text": [
      "count    4228.000000\n",
      "mean       47.840587\n",
      "std        14.130861\n",
      "min        16.000000\n",
      "50%        48.000000\n",
      "75%        58.000000\n",
      "90%        67.000000\n",
      "max        94.000000\n",
      "Name: AGE, dtype: float64\n",
      "uniq 78\n"
     ]
    },
    {
     "data": {
      "text/plain": "<Figure size 432x288 with 1 Axes>",
      "image/png": "[encoded data removed]"
     },
     "metadata": {
      "needs_background": "light"
     },
     "output_type": "display_data"
    }
   ],
   "source": [
    "print_info(\"AGE\")"
   ],
   "metadata": {
    "collapsed": false,
    "pycharm": {
     "name": "#%%\n"
    }
   }
  },
  {
   "cell_type": "code",
   "execution_count": 11,
   "outputs": [],
   "source": [
    "df_train[\"AGE\"].fillna(df_train[\"AGE\"].mean(), inplace=True)\n",
    "df_test[\"AGE\"].fillna(df_train[\"AGE\"].mean(), inplace=True)\n",
    "feats_n.append(\"AGE\")"
   ],
   "metadata": {
    "collapsed": false,
    "pycharm": {
     "name": "#%%\n"
    }
   }
  },
  {
   "cell_type": "code",
   "execution_count": 12,
   "outputs": [
    {
     "name": "stdout",
     "output_type": "stream",
     "text": [
      "count    5310.000000\n",
      "mean        0.602072\n",
      "std         0.489517\n",
      "min         0.000000\n",
      "50%         1.000000\n",
      "75%         1.000000\n",
      "90%         1.000000\n",
      "max         1.000000\n",
      "Name: ATM, dtype: float64\n",
      "uniq 2\n"
     ]
    },
    {
     "data": {
      "text/plain": "<Figure size 432x288 with 1 Axes>",
      "image/png": "[encoded data removed]"
     },
     "metadata": {
      "needs_background": "light"
     },
     "output_type": "display_data"
    }
   ],
   "source": [
    "print_info(\"ATM\")"
   ],
   "metadata": {
    "collapsed": false,
    "pycharm": {
     "name": "#%%\n"
    }
   }
  },
  {
   "cell_type": "code",
   "execution_count": 13,
   "outputs": [],
   "source": [
    "feats_b.append(\"ATM\")"
   ],
   "metadata": {
    "collapsed": false,
    "pycharm": {
     "name": "#%%\n"
    }
   }
  },
  {
   "cell_type": "code",
   "execution_count": 14,
   "outputs": [
    {
     "name": "stdout",
     "output_type": "stream",
     "text": [
      "count     5310.000000\n",
      "mean      1188.928953\n",
      "std       3624.149080\n",
      "min          0.000000\n",
      "50%        127.645000\n",
      "75%       1198.865000\n",
      "90%       2974.209000\n",
      "max      96370.460000\n",
      "Name: ATMAMT, dtype: float64\n",
      "uniq 3026\n"
     ]
    },
    {
     "data": {
      "text/plain": "<Figure size 432x288 with 1 Axes>",
      "image/png": "[encoded data removed]"
     },
     "metadata": {
      "needs_background": "light"
     },
     "output_type": "display_data"
    }
   ],
   "source": [
    "print_info(\"ATMAMT\")"
   ],
   "metadata": {
    "collapsed": false,
    "pycharm": {
     "name": "#%%\n"
    }
   }
  },
  {
   "cell_type": "code",
   "execution_count": 15,
   "outputs": [],
   "source": [
    "df_train[\"ATMAMT\"] = df_train[\"ATMAMT\"].apply(lambda x: np.log(1 + x))\n",
    "df_test[\"ATMAMT\"] = df_test[\"ATMAMT\"].apply(lambda x: np.log(1 + x))\n",
    "feats_n.append(\"ATMAMT\")"
   ],
   "metadata": {
    "collapsed": false,
    "pycharm": {
     "name": "#%%\n"
    }
   }
  },
  {
   "cell_type": "code",
   "execution_count": 16,
   "outputs": [
    {
     "name": "stdout",
     "output_type": "stream",
     "text": [
      "count     5310\n",
      "unique      19\n",
      "top         B4\n",
      "freq       915\n",
      "Name: BRANCH, dtype: object\n",
      "uniq 19\n"
     ]
    },
    {
     "data": {
      "text/plain": "<Figure size 432x288 with 1 Axes>",
      "image/png": "[encoded data removed]"
     },
     "metadata": {
      "needs_background": "light"
     },
     "output_type": "display_data"
    }
   ],
   "source": [
    "print_info(\"BRANCH\")"
   ],
   "metadata": {
    "collapsed": false,
    "pycharm": {
     "name": "#%%\n"
    }
   }
  },
  {
   "cell_type": "code",
   "execution_count": 17,
   "outputs": [],
   "source": [
    "feats_c.append(\"BRANCH\")"
   ],
   "metadata": {
    "collapsed": false,
    "pycharm": {
     "name": "#%%\n"
    }
   }
  },
  {
   "cell_type": "code",
   "execution_count": 18,
   "outputs": [
    {
     "name": "stdout",
     "output_type": "stream",
     "text": [
      "count    5310.000000\n",
      "mean        0.014501\n",
      "std         0.122665\n",
      "min         0.000000\n",
      "50%         0.000000\n",
      "75%         0.000000\n",
      "90%         0.000000\n",
      "max         2.000000\n",
      "Name: CASHBK, dtype: float64\n",
      "uniq 3\n"
     ]
    },
    {
     "data": {
      "text/plain": "<Figure size 432x288 with 1 Axes>",
      "image/png": "[encoded data removed]"
     },
     "metadata": {
      "needs_background": "light"
     },
     "output_type": "display_data"
    }
   ],
   "source": [
    "print_info(\"CASHBK\")"
   ],
   "metadata": {
    "collapsed": false,
    "pycharm": {
     "name": "#%%\n"
    }
   }
  },
  {
   "cell_type": "code",
   "execution_count": 19,
   "outputs": [],
   "source": [
    "df_train[\"CASHBK\"] = df_train[\"CASHBK\"].apply(lambda x: x > 0)\n",
    "df_test[\"CASHBK\"] = df_test[\"CASHBK\"].apply(lambda x: x > 0)\n",
    "feats_b.append(\"CASHBK\")"
   ],
   "metadata": {
    "collapsed": false,
    "pycharm": {
     "name": "#%%\n"
    }
   }
  },
  {
   "cell_type": "code",
   "execution_count": 20,
   "outputs": [
    {
     "name": "stdout",
     "output_type": "stream",
     "text": [
      "count    4647.000000\n",
      "mean        0.479234\n",
      "std         0.499622\n",
      "min         0.000000\n",
      "50%         0.000000\n",
      "75%         1.000000\n",
      "90%         1.000000\n",
      "max         1.000000\n",
      "Name: CC, dtype: float64\n",
      "uniq 3\n"
     ]
    },
    {
     "data": {
      "text/plain": "<Figure size 432x288 with 1 Axes>",
      "image/png": "[encoded data removed]"
     },
     "metadata": {
      "needs_background": "light"
     },
     "output_type": "display_data"
    }
   ],
   "source": [
    "print_info(\"CC\")"
   ],
   "metadata": {
    "collapsed": false,
    "pycharm": {
     "name": "#%%\n"
    }
   }
  },
  {
   "cell_type": "code",
   "execution_count": 21,
   "outputs": [],
   "source": [
    "df_train[\"CC\"].fillna(0, inplace=True)\n",
    "df_test[\"CC\"].fillna(0, inplace=True)\n",
    "feats_b.append(\"CC\")"
   ],
   "metadata": {
    "collapsed": false,
    "pycharm": {
     "name": "#%%\n"
    }
   }
  },
  {
   "cell_type": "code",
   "execution_count": 22,
   "outputs": [
    {
     "name": "stdout",
     "output_type": "stream",
     "text": [
      "count    4.647000e+03\n",
      "mean     9.121378e+03\n",
      "std      4.743963e+04\n",
      "min     -8.974600e+02\n",
      "50%      0.000000e+00\n",
      "75%      4.137850e+02\n",
      "90%      7.452184e+03\n",
      "max      1.384202e+06\n",
      "Name: CCBAL, dtype: float64\n",
      "uniq 1811\n"
     ]
    },
    {
     "data": {
      "text/plain": "<Figure size 432x288 with 1 Axes>",
      "image/png": "[encoded data removed]"
     },
     "metadata": {
      "needs_background": "light"
     },
     "output_type": "display_data"
    }
   ],
   "source": [
    "print_info(\"CCBAL\")"
   ],
   "metadata": {
    "collapsed": false,
    "pycharm": {
     "name": "#%%\n"
    }
   }
  },
  {
   "cell_type": "code",
   "execution_count": 23,
   "outputs": [],
   "source": [
    "df_train[\"CCBAL\"].fillna(0, inplace=True)\n",
    "df_test[\"CCBAL\"].fillna(0, inplace=True)\n",
    "df_train[\"CCBAL\"] = df_train[\"CCBAL\"].apply(lambda x: np.log(1 + np.abs(x)) * np.sign(x))\n",
    "df_test[\"CCBAL\"] = df_test[\"CCBAL\"].apply(lambda x: np.log(1 + np.abs(x)) * np.sign(x))\n",
    "feats_n.append(\"CCBAL\")"
   ],
   "metadata": {
    "collapsed": false,
    "pycharm": {
     "name": "#%%\n"
    }
   }
  },
  {
   "cell_type": "code",
   "execution_count": 24,
   "outputs": [
    {
     "name": "stdout",
     "output_type": "stream",
     "text": [
      "count    4647.000000\n",
      "mean        0.145470\n",
      "std         0.429152\n",
      "min         0.000000\n",
      "50%         0.000000\n",
      "75%         0.000000\n",
      "90%         1.000000\n",
      "max         4.000000\n",
      "Name: CCPURC, dtype: float64\n",
      "uniq 6\n"
     ]
    },
    {
     "data": {
      "text/plain": "<Figure size 432x288 with 1 Axes>",
      "image/png": "[encoded data removed]"
     },
     "metadata": {
      "needs_background": "light"
     },
     "output_type": "display_data"
    }
   ],
   "source": [
    "print_info(\"CCPURC\")"
   ],
   "metadata": {
    "collapsed": false,
    "pycharm": {
     "name": "#%%\n"
    }
   }
  },
  {
   "cell_type": "code",
   "execution_count": 25,
   "outputs": [],
   "source": [
    "df_train[\"CCPURC\"].fillna(0, inplace=True)\n",
    "df_test[\"CCPURC\"].fillna(0, inplace=True)\n",
    "df_train[\"CCPURC\"] = df_train[\"CCPURC\"].apply(lambda x: x > 0)\n",
    "df_test[\"CCPURC\"] = df_test[\"CCPURC\"].apply(lambda x: x > 0)\n",
    "feats_b.append(\"CCPURC\")"
   ],
   "metadata": {
    "collapsed": false,
    "pycharm": {
     "name": "#%%\n"
    }
   }
  },
  {
   "cell_type": "code",
   "execution_count": 26,
   "outputs": [
    {
     "name": "stdout",
     "output_type": "stream",
     "text": [
      "count    5310.000000\n",
      "mean        0.120716\n",
      "std         0.325827\n",
      "min         0.000000\n",
      "50%         0.000000\n",
      "75%         0.000000\n",
      "90%         1.000000\n",
      "max         1.000000\n",
      "Name: CD, dtype: float64\n",
      "uniq 2\n"
     ]
    },
    {
     "data": {
      "text/plain": "<Figure size 432x288 with 1 Axes>",
      "image/png": "[encoded data removed]"
     },
     "metadata": {
      "needs_background": "light"
     },
     "output_type": "display_data"
    }
   ],
   "source": [
    "print_info(\"CD\")"
   ],
   "metadata": {
    "collapsed": false,
    "pycharm": {
     "name": "#%%\n"
    }
   }
  },
  {
   "cell_type": "code",
   "execution_count": 27,
   "outputs": [],
   "source": [
    "feats_b.append(\"CD\")"
   ],
   "metadata": {
    "collapsed": false,
    "pycharm": {
     "name": "#%%\n"
    }
   }
  },
  {
   "cell_type": "code",
   "execution_count": 28,
   "outputs": [
    {
     "name": "stdout",
     "output_type": "stream",
     "text": [
      "count      5310.000000\n",
      "mean       2301.242938\n",
      "std       11475.528861\n",
      "min           0.000000\n",
      "50%           0.000000\n",
      "75%           0.000000\n",
      "90%        4000.000000\n",
      "max      263600.000000\n",
      "Name: CDBAL, dtype: float64\n",
      "uniq 265\n"
     ]
    },
    {
     "data": {
      "text/plain": "<Figure size 432x288 with 1 Axes>",
      "image/png": "[encoded data removed]"
     },
     "metadata": {
      "needs_background": "light"
     },
     "output_type": "display_data"
    }
   ],
   "source": [
    "print_info(\"CDBAL\")"
   ],
   "metadata": {
    "collapsed": false,
    "pycharm": {
     "name": "#%%\n"
    }
   }
  },
  {
   "cell_type": "code",
   "execution_count": 29,
   "outputs": [],
   "source": [
    "df_train[\"CDBAL\"] = df_train[\"CDBAL\"].apply(lambda x: np.log(1 + x))\n",
    "df_test[\"CDBAL\"] = df_test[\"CDBAL\"].apply(lambda x: np.log(1 + x))\n",
    "feats_n.append(\"CDBAL\")"
   ],
   "metadata": {
    "collapsed": false,
    "pycharm": {
     "name": "#%%\n"
    }
   }
  },
  {
   "cell_type": "code",
   "execution_count": 30,
   "outputs": [
    {
     "name": "stdout",
     "output_type": "stream",
     "text": [
      "count    5310.000000\n",
      "mean        4.321092\n",
      "std         5.231062\n",
      "min         0.000000\n",
      "50%         2.500000\n",
      "75%         7.000000\n",
      "90%        12.000000\n",
      "max        48.000000\n",
      "Name: CHECKS, dtype: float64\n",
      "uniq 37\n"
     ]
    },
    {
     "data": {
      "text/plain": "<Figure size 432x288 with 1 Axes>",
      "image/png": "[encoded data removed]"
     },
     "metadata": {
      "needs_background": "light"
     },
     "output_type": "display_data"
    }
   ],
   "source": [
    "print_info(\"CHECKS\")"
   ],
   "metadata": {
    "collapsed": false,
    "pycharm": {
     "name": "#%%\n"
    }
   }
  },
  {
   "cell_type": "code",
   "execution_count": 31,
   "outputs": [],
   "source": [
    "feats_n.append(\"CHECKS\")"
   ],
   "metadata": {
    "collapsed": false,
    "pycharm": {
     "name": "#%%\n"
    }
   }
  },
  {
   "cell_type": "code",
   "execution_count": 32,
   "outputs": [
    {
     "name": "stdout",
     "output_type": "stream",
     "text": [
      "count    5198.000000\n",
      "mean      666.691805\n",
      "std        40.052155\n",
      "min       534.000000\n",
      "50%       667.000000\n",
      "75%       693.000000\n",
      "90%       717.000000\n",
      "max       807.000000\n",
      "Name: CRSCORE, dtype: float64\n",
      "uniq 247\n"
     ]
    },
    {
     "data": {
      "text/plain": "<Figure size 432x288 with 1 Axes>",
      "image/png": "[encoded data removed]"
     },
     "metadata": {
      "needs_background": "light"
     },
     "output_type": "display_data"
    }
   ],
   "source": [
    "print_info(\"CRSCORE\")"
   ],
   "metadata": {
    "collapsed": false,
    "pycharm": {
     "name": "#%%\n"
    }
   }
  },
  {
   "cell_type": "code",
   "execution_count": 33,
   "outputs": [],
   "source": [
    "df_train[\"CRSCORE\"].fillna(df_train[\"CRSCORE\"].mean(), inplace=True)\n",
    "df_test[\"CRSCORE\"].fillna(df_train[\"CRSCORE\"].mean(), inplace=True)\n",
    "feats_n.append(\"CRSCORE\")"
   ],
   "metadata": {
    "collapsed": false,
    "pycharm": {
     "name": "#%%\n"
    }
   }
  },
  {
   "cell_type": "code",
   "execution_count": 34,
   "outputs": [
    {
     "name": "stdout",
     "output_type": "stream",
     "text": [
      "count    5310.000000\n",
      "mean        0.816949\n",
      "std         0.386745\n",
      "min         0.000000\n",
      "50%         1.000000\n",
      "75%         1.000000\n",
      "90%         1.000000\n",
      "max         1.000000\n",
      "Name: DDA, dtype: float64\n",
      "uniq 2\n"
     ]
    },
    {
     "data": {
      "text/plain": "<Figure size 432x288 with 1 Axes>",
      "image/png": "[encoded data removed]"
     },
     "metadata": {
      "needs_background": "light"
     },
     "output_type": "display_data"
    }
   ],
   "source": [
    "print_info(\"DDA\")"
   ],
   "metadata": {
    "collapsed": false,
    "pycharm": {
     "name": "#%%\n"
    }
   }
  },
  {
   "cell_type": "code",
   "execution_count": 35,
   "outputs": [],
   "source": [
    "feats_b.append(\"DDA\")"
   ],
   "metadata": {
    "collapsed": false,
    "pycharm": {
     "name": "#%%\n"
    }
   }
  },
  {
   "cell_type": "code",
   "execution_count": 36,
   "outputs": [
    {
     "name": "stdout",
     "output_type": "stream",
     "text": [
      "count      5310.000000\n",
      "mean       2201.727633\n",
      "std        7829.191031\n",
      "min         -85.080000\n",
      "50%         615.885000\n",
      "75%        1845.170000\n",
      "90%        4663.016000\n",
      "max      259734.260000\n",
      "Name: DDABAL, dtype: float64\n",
      "uniq 4296\n"
     ]
    },
    {
     "data": {
      "text/plain": "<Figure size 432x288 with 1 Axes>",
      "image/png": "[encoded data removed]"
     },
     "metadata": {
      "needs_background": "light"
     },
     "output_type": "display_data"
    }
   ],
   "source": [
    "print_info(\"DDABAL\")"
   ],
   "metadata": {
    "collapsed": false,
    "pycharm": {
     "name": "#%%\n"
    }
   }
  },
  {
   "cell_type": "code",
   "execution_count": 37,
   "outputs": [],
   "source": [
    "df_train[\"DDABAL\"] = df_train[\"DDABAL\"].apply(lambda x: np.log(1 + np.abs(x)) * np.sign(x))\n",
    "df_test[\"DDABAL\"] = df_test[\"DDABAL\"].apply(lambda x: np.log(1 + np.abs(x)) * np.sign(x))\n",
    "feats_n.append(\"DDABAL\")"
   ],
   "metadata": {
    "collapsed": false,
    "pycharm": {
     "name": "#%%\n"
    }
   }
  },
  {
   "cell_type": "code",
   "execution_count": 38,
   "outputs": [
    {
     "name": "stdout",
     "output_type": "stream",
     "text": [
      "count    5310.000000\n",
      "mean        2.127495\n",
      "std         1.710696\n",
      "min         0.000000\n",
      "50%         2.000000\n",
      "75%         3.000000\n",
      "90%         4.000000\n",
      "max        20.000000\n",
      "Name: DEP, dtype: float64\n",
      "uniq 13\n"
     ]
    },
    {
     "data": {
      "text/plain": "<Figure size 432x288 with 1 Axes>",
      "image/png": "[encoded data removed]"
     },
     "metadata": {
      "needs_background": "light"
     },
     "output_type": "display_data"
    }
   ],
   "source": [
    "print_info(\"DEP\")"
   ],
   "metadata": {
    "collapsed": false,
    "pycharm": {
     "name": "#%%\n"
    }
   }
  },
  {
   "cell_type": "code",
   "execution_count": 39,
   "outputs": [],
   "source": [
    "feats_n.append(\"DEP\")"
   ],
   "metadata": {
    "collapsed": false,
    "pycharm": {
     "name": "#%%\n"
    }
   }
  },
  {
   "cell_type": "code",
   "execution_count": 40,
   "outputs": [
    {
     "name": "stdout",
     "output_type": "stream",
     "text": [
      "count      5310.000000\n",
      "mean       2177.149426\n",
      "std        5042.053560\n",
      "min           0.000000\n",
      "50%        1099.130000\n",
      "75%        2477.880000\n",
      "90%        4820.312000\n",
      "max      162596.530000\n",
      "Name: DEPAMT, dtype: float64\n",
      "uniq 4133\n"
     ]
    },
    {
     "data": {
      "text/plain": "<Figure size 432x288 with 1 Axes>",
      "image/png": "[encoded data removed]"
     },
     "metadata": {
      "needs_background": "light"
     },
     "output_type": "display_data"
    }
   ],
   "source": [
    "print_info(\"DEPAMT\")"
   ],
   "metadata": {
    "collapsed": false,
    "pycharm": {
     "name": "#%%\n"
    }
   }
  },
  {
   "cell_type": "code",
   "execution_count": 41,
   "outputs": [],
   "source": [
    "df_train[\"DEPAMT\"] = df_train[\"DEPAMT\"].apply(lambda x: np.log(1 + x))\n",
    "df_test[\"DEPAMT\"] = df_test[\"DEPAMT\"].apply(lambda x: np.log(1 + x))\n",
    "feats_n.append(\"DEPAMT\")"
   ],
   "metadata": {
    "collapsed": false,
    "pycharm": {
     "name": "#%%\n"
    }
   }
  },
  {
   "cell_type": "code",
   "execution_count": 42,
   "outputs": [
    {
     "name": "stdout",
     "output_type": "stream",
     "text": [
      "count    5310.000000\n",
      "mean        0.293974\n",
      "std         0.455623\n",
      "min         0.000000\n",
      "50%         0.000000\n",
      "75%         1.000000\n",
      "90%         1.000000\n",
      "max         1.000000\n",
      "Name: DIRDEP, dtype: float64\n",
      "uniq 2\n"
     ]
    },
    {
     "data": {
      "text/plain": "<Figure size 432x288 with 1 Axes>",
      "image/png": "[encoded data removed]"
     },
     "metadata": {
      "needs_background": "light"
     },
     "output_type": "display_data"
    }
   ],
   "source": [
    "print_info(\"DIRDEP\")"
   ],
   "metadata": {
    "collapsed": false,
    "pycharm": {
     "name": "#%%\n"
    }
   }
  },
  {
   "cell_type": "code",
   "execution_count": 43,
   "outputs": [],
   "source": [
    "feats_b.append(\"DIRDEP\")"
   ],
   "metadata": {
    "collapsed": false,
    "pycharm": {
     "name": "#%%\n"
    }
   }
  },
  {
   "cell_type": "code",
   "execution_count": 44,
   "outputs": [
    {
     "name": "stdout",
     "output_type": "stream",
     "text": [
      "count    4376.000000\n",
      "mean        0.541133\n",
      "std         0.498362\n",
      "min         0.000000\n",
      "50%         1.000000\n",
      "75%         1.000000\n",
      "90%         1.000000\n",
      "max         1.000000\n",
      "Name: HMOWN, dtype: float64\n",
      "uniq 3\n"
     ]
    },
    {
     "data": {
      "text/plain": "<Figure size 432x288 with 1 Axes>",
      "image/png": "[encoded data removed]"
     },
     "metadata": {
      "needs_background": "light"
     },
     "output_type": "display_data"
    }
   ],
   "source": [
    "print_info(\"HMOWN\")"
   ],
   "metadata": {
    "collapsed": false,
    "pycharm": {
     "name": "#%%\n"
    }
   }
  },
  {
   "cell_type": "code",
   "execution_count": 45,
   "outputs": [],
   "source": [
    "df_train[\"HMOWN\"].fillna(0, inplace=True)\n",
    "df_test[\"HMOWN\"].fillna(0, inplace=True)\n",
    "feats_b.append(\"HMOWN\")"
   ],
   "metadata": {
    "collapsed": false,
    "pycharm": {
     "name": "#%%\n"
    }
   }
  },
  {
   "cell_type": "code",
   "execution_count": 46,
   "outputs": [
    {
     "name": "stdout",
     "output_type": "stream",
     "text": [
      "count    4321.000000\n",
      "mean      111.007637\n",
      "std        22.852540\n",
      "min        69.000000\n",
      "50%       108.000000\n",
      "75%       120.000000\n",
      "90%       134.000000\n",
      "max       625.000000\n",
      "Name: HMVAL, dtype: float64\n",
      "uniq 137\n"
     ]
    },
    {
     "data": {
      "text/plain": "<Figure size 432x288 with 1 Axes>",
      "image/png": "[encoded data removed]"
     },
     "metadata": {
      "needs_background": "light"
     },
     "output_type": "display_data"
    }
   ],
   "source": [
    "print_info(\"HMVAL\")"
   ],
   "metadata": {
    "collapsed": false,
    "pycharm": {
     "name": "#%%\n"
    }
   }
  },
  {
   "cell_type": "code",
   "execution_count": 47,
   "outputs": [],
   "source": [
    "df_train[\"HMVAL\"].fillna(df_train[\"HMVAL\"].median(), inplace=True)\n",
    "df_test[\"HMVAL\"].fillna(df_train[\"HMVAL\"].median(), inplace=True)\n",
    "feats_n.append(\"HMVAL\")"
   ],
   "metadata": {
    "collapsed": false,
    "pycharm": {
     "name": "#%%\n"
    }
   }
  },
  {
   "cell_type": "code",
   "execution_count": 48,
   "outputs": [
    {
     "name": "stdout",
     "output_type": "stream",
     "text": [
      "count    5310.000000\n",
      "mean        0.050659\n",
      "std         0.219321\n",
      "min         0.000000\n",
      "50%         0.000000\n",
      "75%         0.000000\n",
      "90%         0.000000\n",
      "max         1.000000\n",
      "Name: ILS, dtype: float64\n",
      "uniq 2\n"
     ]
    },
    {
     "data": {
      "text/plain": "<Figure size 432x288 with 1 Axes>",
      "image/png": "[encoded data removed]"
     },
     "metadata": {
      "needs_background": "light"
     },
     "output_type": "display_data"
    }
   ],
   "source": [
    "print_info(\"ILS\")"
   ],
   "metadata": {
    "collapsed": false,
    "pycharm": {
     "name": "#%%\n"
    }
   }
  },
  {
   "cell_type": "code",
   "execution_count": 49,
   "outputs": [],
   "source": [
    "feats_b.append(\"ILS\")"
   ],
   "metadata": {
    "collapsed": false,
    "pycharm": {
     "name": "#%%\n"
    }
   }
  },
  {
   "cell_type": "code",
   "execution_count": 50,
   "outputs": [
    {
     "name": "stdout",
     "output_type": "stream",
     "text": [
      "count     5310.000000\n",
      "mean       532.476484\n",
      "std       2333.772166\n",
      "min          0.000000\n",
      "50%          0.000000\n",
      "75%          0.000000\n",
      "90%          0.000000\n",
      "max      26806.590000\n",
      "Name: ILSBAL, dtype: float64\n",
      "uniq 270\n"
     ]
    },
    {
     "data": {
      "text/plain": "<Figure size 432x288 with 1 Axes>",
      "image/png": "[encoded data removed]"
     },
     "metadata": {
      "needs_background": "light"
     },
     "output_type": "display_data"
    }
   ],
   "source": [
    "print_info(\"ILSBAL\")"
   ],
   "metadata": {
    "collapsed": false,
    "pycharm": {
     "name": "#%%\n"
    }
   }
  },
  {
   "cell_type": "code",
   "execution_count": 51,
   "outputs": [],
   "source": [
    "df_train[\"ILSBAL\"] = df_train[\"ILSBAL\"].apply(lambda x: np.log(1 + x))\n",
    "df_test[\"ILSBAL\"] = df_test[\"ILSBAL\"].apply(lambda x: np.log(1 + x))\n",
    "feats_n.append(\"ILSBAL\")"
   ],
   "metadata": {
    "collapsed": false,
    "pycharm": {
     "name": "#%%\n"
    }
   }
  },
  {
   "cell_type": "code",
   "execution_count": 52,
   "outputs": [
    {
     "name": "stdout",
     "output_type": "stream",
     "text": [
      "count    5310.000000\n",
      "mean        0.962900\n",
      "std         0.189024\n",
      "min         0.000000\n",
      "50%         1.000000\n",
      "75%         1.000000\n",
      "90%         1.000000\n",
      "max         1.000000\n",
      "Name: INAREA, dtype: float64\n",
      "uniq 2\n"
     ]
    },
    {
     "data": {
      "text/plain": "<Figure size 432x288 with 1 Axes>",
      "image/png": "[encoded data removed]"
     },
     "metadata": {
      "needs_background": "light"
     },
     "output_type": "display_data"
    }
   ],
   "source": [
    "print_info(\"INAREA\")"
   ],
   "metadata": {
    "collapsed": false,
    "pycharm": {
     "name": "#%%\n"
    }
   }
  },
  {
   "cell_type": "code",
   "execution_count": 53,
   "outputs": [],
   "source": [
    "feats_b.append(\"INAREA\")"
   ],
   "metadata": {
    "collapsed": false,
    "pycharm": {
     "name": "#%%\n"
    }
   }
  },
  {
   "cell_type": "code",
   "execution_count": 54,
   "outputs": [
    {
     "name": "stdout",
     "output_type": "stream",
     "text": [
      "count    4321.000000\n",
      "mean       40.795649\n",
      "std        28.612589\n",
      "min         0.000000\n",
      "50%        35.000000\n",
      "75%        55.000000\n",
      "90%        79.000000\n",
      "max       225.000000\n",
      "Name: INCOME, dtype: float64\n",
      "uniq 165\n"
     ]
    },
    {
     "data": {
      "text/plain": "<Figure size 432x288 with 1 Axes>",
      "image/png": "[encoded data removed]"
     },
     "metadata": {
      "needs_background": "light"
     },
     "output_type": "display_data"
    }
   ],
   "source": [
    "print_info(\"INCOME\")"
   ],
   "metadata": {
    "collapsed": false,
    "pycharm": {
     "name": "#%%\n"
    }
   }
  },
  {
   "cell_type": "code",
   "execution_count": 55,
   "outputs": [],
   "source": [
    "df_train[\"INCOME\"].fillna(df_train[\"INCOME\"].median(), inplace=True)\n",
    "df_test[\"INCOME\"].fillna(df_train[\"INCOME\"].median(), inplace=True)\n",
    "feats_n.append(\"INCOME\")"
   ],
   "metadata": {
    "collapsed": false,
    "pycharm": {
     "name": "#%%\n"
    }
   }
  },
  {
   "cell_type": "code",
   "execution_count": 56,
   "outputs": [
    {
     "name": "stdout",
     "output_type": "stream",
     "text": [
      "count    4647.000000\n",
      "mean        0.028836\n",
      "std         0.167363\n",
      "min         0.000000\n",
      "50%         0.000000\n",
      "75%         0.000000\n",
      "90%         0.000000\n",
      "max         1.000000\n",
      "Name: INV, dtype: float64\n",
      "uniq 3\n"
     ]
    },
    {
     "data": {
      "text/plain": "<Figure size 432x288 with 1 Axes>",
      "image/png": "[encoded data removed]"
     },
     "metadata": {
      "needs_background": "light"
     },
     "output_type": "display_data"
    }
   ],
   "source": [
    "print_info(\"INV\")"
   ],
   "metadata": {
    "collapsed": false,
    "pycharm": {
     "name": "#%%\n"
    }
   }
  },
  {
   "cell_type": "code",
   "execution_count": 57,
   "outputs": [],
   "source": [
    "df_train[\"INV\"].fillna(0, inplace=True)\n",
    "df_test[\"INV\"].fillna(0, inplace=True)\n",
    "feats_b.append(\"INV\")"
   ],
   "metadata": {
    "collapsed": false,
    "pycharm": {
     "name": "#%%\n"
    }
   }
  },
  {
   "cell_type": "code",
   "execution_count": 58,
   "outputs": [
    {
     "name": "stdout",
     "output_type": "stream",
     "text": [
      "count      4647.000000\n",
      "mean        560.907024\n",
      "std        9396.028674\n",
      "min           0.000000\n",
      "50%           0.000000\n",
      "75%           0.000000\n",
      "90%           0.000000\n",
      "max      391049.980000\n",
      "Name: INVBAL, dtype: float64\n",
      "uniq 73\n"
     ]
    },
    {
     "data": {
      "text/plain": "<Figure size 432x288 with 1 Axes>",
      "image/png": "[encoded data removed]"
     },
     "metadata": {
      "needs_background": "light"
     },
     "output_type": "display_data"
    }
   ],
   "source": [
    "print_info(\"INVBAL\")"
   ],
   "metadata": {
    "collapsed": false,
    "pycharm": {
     "name": "#%%\n"
    }
   }
  },
  {
   "cell_type": "code",
   "execution_count": 59,
   "outputs": [],
   "source": [
    "df_train[\"INVBAL\"].fillna(0, inplace=True)\n",
    "df_test[\"INVBAL\"].fillna(0, inplace=True)\n",
    "df_train[\"INVBAL\"] = df_train[\"INVBAL\"].apply(lambda x: np.log(1 + x))\n",
    "df_test[\"INVBAL\"] = df_test[\"INVBAL\"].apply(lambda x: np.log(1 + x))\n",
    "feats_n.append(\"INVBAL\")"
   ],
   "metadata": {
    "collapsed": false,
    "pycharm": {
     "name": "#%%\n"
    }
   }
  },
  {
   "cell_type": "code",
   "execution_count": 60,
   "outputs": [
    {
     "name": "stdout",
     "output_type": "stream",
     "text": [
      "count    5310.000000\n",
      "mean        0.057439\n",
      "std         0.232701\n",
      "min         0.000000\n",
      "50%         0.000000\n",
      "75%         0.000000\n",
      "90%         0.000000\n",
      "max         1.000000\n",
      "Name: IRA, dtype: float64\n",
      "uniq 2\n"
     ]
    },
    {
     "data": {
      "text/plain": "<Figure size 432x288 with 1 Axes>",
      "image/png": "[encoded data removed]"
     },
     "metadata": {
      "needs_background": "light"
     },
     "output_type": "display_data"
    }
   ],
   "source": [
    "print_info(\"IRA\")"
   ],
   "metadata": {
    "collapsed": false,
    "pycharm": {
     "name": "#%%\n"
    }
   }
  },
  {
   "cell_type": "code",
   "execution_count": 61,
   "outputs": [],
   "source": [
    "feats_b.append(\"IRA\")"
   ],
   "metadata": {
    "collapsed": false,
    "pycharm": {
     "name": "#%%\n"
    }
   }
  },
  {
   "cell_type": "code",
   "execution_count": 62,
   "outputs": [
    {
     "name": "stdout",
     "output_type": "stream",
     "text": [
      "count      5310.000000\n",
      "mean        627.439254\n",
      "std        6292.840484\n",
      "min           0.000000\n",
      "50%           0.000000\n",
      "75%           0.000000\n",
      "90%           0.000000\n",
      "max      266220.760000\n",
      "Name: IRABAL, dtype: float64\n",
      "uniq 283\n"
     ]
    },
    {
     "data": {
      "text/plain": "<Figure size 432x288 with 1 Axes>",
      "image/png": "[encoded data removed]"
     },
     "metadata": {
      "needs_background": "light"
     },
     "output_type": "display_data"
    }
   ],
   "source": [
    "print_info(\"IRABAL\")"
   ],
   "metadata": {
    "collapsed": false,
    "pycharm": {
     "name": "#%%\n"
    }
   }
  },
  {
   "cell_type": "code",
   "execution_count": 63,
   "outputs": [],
   "source": [
    "df_train[\"IRABAL\"] = df_train[\"IRABAL\"].apply(lambda x: np.log(1 + x))\n",
    "df_test[\"IRABAL\"] = df_test[\"IRABAL\"].apply(lambda x: np.log(1 + x))\n",
    "feats_n.append(\"IRABAL\")"
   ],
   "metadata": {
    "collapsed": false,
    "pycharm": {
     "name": "#%%\n"
    }
   }
  },
  {
   "cell_type": "code",
   "execution_count": 64,
   "outputs": [
    {
     "name": "stdout",
     "output_type": "stream",
     "text": [
      "count    5310.000000\n",
      "mean        0.063277\n",
      "std         0.243483\n",
      "min         0.000000\n",
      "50%         0.000000\n",
      "75%         0.000000\n",
      "90%         0.000000\n",
      "max         1.000000\n",
      "Name: LOC, dtype: float64\n",
      "uniq 2\n"
     ]
    },
    {
     "data": {
      "text/plain": "<Figure size 432x288 with 1 Axes>",
      "image/png": "[encoded data removed]"
     },
     "metadata": {
      "needs_background": "light"
     },
     "output_type": "display_data"
    }
   ],
   "source": [
    "print_info(\"LOC\")"
   ],
   "metadata": {
    "collapsed": false,
    "pycharm": {
     "name": "#%%\n"
    }
   }
  },
  {
   "cell_type": "code",
   "execution_count": 65,
   "outputs": [],
   "source": [
    "feats_b.append(\"LOC\")"
   ],
   "metadata": {
    "collapsed": false,
    "pycharm": {
     "name": "#%%\n"
    }
   }
  },
  {
   "cell_type": "code",
   "execution_count": 66,
   "outputs": [
    {
     "name": "stdout",
     "output_type": "stream",
     "text": [
      "count      5310.000000\n",
      "mean       1136.555663\n",
      "std       10468.457147\n",
      "min          -0.230000\n",
      "50%           0.000000\n",
      "75%           0.000000\n",
      "90%           0.000000\n",
      "max      367098.200000\n",
      "Name: LOCBAL, dtype: float64\n",
      "uniq 302\n"
     ]
    },
    {
     "data": {
      "text/plain": "<Figure size 432x288 with 1 Axes>",
      "image/png": "[encoded data removed]"
     },
     "metadata": {
      "needs_background": "light"
     },
     "output_type": "display_data"
    }
   ],
   "source": [
    "print_info(\"LOCBAL\")"
   ],
   "metadata": {
    "collapsed": false,
    "pycharm": {
     "name": "#%%\n"
    }
   }
  },
  {
   "cell_type": "code",
   "execution_count": 67,
   "outputs": [],
   "source": [
    "df_train[\"LOCBAL\"] = df_train[\"LOCBAL\"].apply(lambda x: np.log(1 + np.abs(x)) * np.sign(x))\n",
    "df_test[\"LOCBAL\"] = df_test[\"LOCBAL\"].apply(lambda x: np.log(1 + np.abs(x)) * np.sign(x))\n",
    "feats_n.append(\"LOCBAL\")"
   ],
   "metadata": {
    "collapsed": false,
    "pycharm": {
     "name": "#%%\n"
    }
   }
  },
  {
   "cell_type": "code",
   "execution_count": 68,
   "outputs": [
    {
     "name": "stdout",
     "output_type": "stream",
     "text": [
      "count    4321.000000\n",
      "mean        7.005207\n",
      "std         2.822472\n",
      "min         1.000000\n",
      "50%         7.000000\n",
      "75%         9.000000\n",
      "90%        11.000000\n",
      "max        18.000000\n",
      "Name: LORES, dtype: float64\n",
      "uniq 36\n"
     ]
    },
    {
     "data": {
      "text/plain": "<Figure size 432x288 with 1 Axes>",
      "image/png": "[encoded data removed]"
     },
     "metadata": {
      "needs_background": "light"
     },
     "output_type": "display_data"
    }
   ],
   "source": [
    "print_info(\"LORES\")"
   ],
   "metadata": {
    "collapsed": false,
    "pycharm": {
     "name": "#%%\n"
    }
   }
  },
  {
   "cell_type": "code",
   "execution_count": 69,
   "outputs": [],
   "source": [
    "df_train[\"LORES\"].fillna(df_train[\"LORES\"].median(), inplace=True)\n",
    "df_test[\"LORES\"].fillna(df_train[\"LORES\"].median(), inplace=True)\n",
    "feats_n.append(\"LORES\")"
   ],
   "metadata": {
    "collapsed": false,
    "pycharm": {
     "name": "#%%\n"
    }
   }
  },
  {
   "cell_type": "code",
   "execution_count": 70,
   "outputs": [
    {
     "name": "stdout",
     "output_type": "stream",
     "text": [
      "count    5310.000000\n",
      "mean        0.116573\n",
      "std         0.320940\n",
      "min         0.000000\n",
      "50%         0.000000\n",
      "75%         0.000000\n",
      "90%         1.000000\n",
      "max         1.000000\n",
      "Name: MM, dtype: float64\n",
      "uniq 2\n"
     ]
    },
    {
     "data": {
      "text/plain": "<Figure size 432x288 with 1 Axes>",
      "image/png": "[encoded data removed]"
     },
     "metadata": {
      "needs_background": "light"
     },
     "output_type": "display_data"
    }
   ],
   "source": [
    "print_info(\"MM\")"
   ],
   "metadata": {
    "collapsed": false,
    "pycharm": {
     "name": "#%%\n"
    }
   }
  },
  {
   "cell_type": "code",
   "execution_count": 71,
   "outputs": [],
   "source": [
    "feats_b.append(\"MM\")"
   ],
   "metadata": {
    "collapsed": false,
    "pycharm": {
     "name": "#%%\n"
    }
   }
  },
  {
   "cell_type": "code",
   "execution_count": 72,
   "outputs": [
    {
     "name": "stdout",
     "output_type": "stream",
     "text": [
      "count      5310.000000\n",
      "mean       1921.260563\n",
      "std        5629.039569\n",
      "min           0.000000\n",
      "50%           0.000000\n",
      "75%           0.000000\n",
      "90%       14864.231000\n",
      "max      107028.550000\n",
      "Name: MMBAL, dtype: float64\n",
      "uniq 620\n"
     ]
    },
    {
     "data": {
      "text/plain": "<Figure size 432x288 with 1 Axes>",
      "image/png": "[encoded data removed]"
     },
     "metadata": {
      "needs_background": "light"
     },
     "output_type": "display_data"
    }
   ],
   "source": [
    "print_info(\"MMBAL\")"
   ],
   "metadata": {
    "collapsed": false,
    "pycharm": {
     "name": "#%%\n"
    }
   }
  },
  {
   "cell_type": "code",
   "execution_count": 73,
   "outputs": [],
   "source": [
    "df_train[\"MMBAL\"] = df_train[\"MMBAL\"].apply(lambda x: np.log(1 + x))\n",
    "df_test[\"MMBAL\"] = df_test[\"MMBAL\"].apply(lambda x: np.log(1 + x))\n",
    "feats_n.append(\"MMBAL\")"
   ],
   "metadata": {
    "collapsed": false,
    "pycharm": {
     "name": "#%%\n"
    }
   }
  },
  {
   "cell_type": "code",
   "execution_count": 74,
   "outputs": [
    {
     "name": "stdout",
     "output_type": "stream",
     "text": [
      "count    5310.000000\n",
      "mean        0.054426\n",
      "std         0.279679\n",
      "min         0.000000\n",
      "50%         0.000000\n",
      "75%         0.000000\n",
      "90%         0.000000\n",
      "max         5.000000\n",
      "Name: MMCRED, dtype: float64\n",
      "uniq 5\n"
     ]
    },
    {
     "data": {
      "text/plain": "<Figure size 432x288 with 1 Axes>",
      "image/png": "[encoded data removed]"
     },
     "metadata": {
      "needs_background": "light"
     },
     "output_type": "display_data"
    }
   ],
   "source": [
    "print_info(\"MMCRED\")"
   ],
   "metadata": {
    "collapsed": false,
    "pycharm": {
     "name": "#%%\n"
    }
   }
  },
  {
   "cell_type": "code",
   "execution_count": 75,
   "outputs": [],
   "source": [
    "df_train[\"MMCRED\"] = df_train[\"MMCRED\"].apply(lambda x: x > 0)\n",
    "df_test[\"MMCRED\"] = df_test[\"MMCRED\"].apply(lambda x: x > 0)\n",
    "feats_b.append(\"MMCRED\")"
   ],
   "metadata": {
    "collapsed": false,
    "pycharm": {
     "name": "#%%\n"
    }
   }
  },
  {
   "cell_type": "code",
   "execution_count": 76,
   "outputs": [
    {
     "name": "stdout",
     "output_type": "stream",
     "text": [
      "count    5310.000000\n",
      "mean        0.026742\n",
      "std         0.161344\n",
      "min         0.000000\n",
      "50%         0.000000\n",
      "75%         0.000000\n",
      "90%         0.000000\n",
      "max         1.000000\n",
      "Name: MOVED, dtype: float64\n",
      "uniq 2\n"
     ]
    },
    {
     "data": {
      "text/plain": "<Figure size 432x288 with 1 Axes>",
      "image/png": "[encoded data removed]"
     },
     "metadata": {
      "needs_background": "light"
     },
     "output_type": "display_data"
    }
   ],
   "source": [
    "print_info(\"MOVED\")"
   ],
   "metadata": {
    "collapsed": false,
    "pycharm": {
     "name": "#%%\n"
    }
   }
  },
  {
   "cell_type": "code",
   "execution_count": 77,
   "outputs": [],
   "source": [
    "feats_b.append(\"MOVED\")"
   ],
   "metadata": {
    "collapsed": false,
    "pycharm": {
     "name": "#%%\n"
    }
   }
  },
  {
   "cell_type": "code",
   "execution_count": 78,
   "outputs": [
    {
     "name": "stdout",
     "output_type": "stream",
     "text": [
      "count    5310.000000\n",
      "mean        0.048399\n",
      "std         0.214629\n",
      "min         0.000000\n",
      "50%         0.000000\n",
      "75%         0.000000\n",
      "90%         0.000000\n",
      "max         1.000000\n",
      "Name: MTG, dtype: float64\n",
      "uniq 2\n"
     ]
    },
    {
     "data": {
      "text/plain": "<Figure size 432x288 with 1 Axes>",
      "image/png": "[encoded data removed]"
     },
     "metadata": {
      "needs_background": "light"
     },
     "output_type": "display_data"
    }
   ],
   "source": [
    "print_info(\"MTG\")"
   ],
   "metadata": {
    "collapsed": false,
    "pycharm": {
     "name": "#%%\n"
    }
   }
  },
  {
   "cell_type": "code",
   "execution_count": 79,
   "outputs": [],
   "source": [
    "feats_b.append(\"MTG\")"
   ],
   "metadata": {
    "collapsed": false,
    "pycharm": {
     "name": "#%%\n"
    }
   }
  },
  {
   "cell_type": "code",
   "execution_count": 80,
   "outputs": [
    {
     "name": "stdout",
     "output_type": "stream",
     "text": [
      "count    5.310000e+03\n",
      "mean     7.244960e+03\n",
      "std      4.722449e+04\n",
      "min      0.000000e+00\n",
      "50%      0.000000e+00\n",
      "75%      0.000000e+00\n",
      "90%      0.000000e+00\n",
      "max      1.550473e+06\n",
      "Name: MTGBAL, dtype: float64\n",
      "uniq 256\n"
     ]
    },
    {
     "data": {
      "text/plain": "<Figure size 432x288 with 1 Axes>",
      "image/png": "[encoded data removed]"
     },
     "metadata": {
      "needs_background": "light"
     },
     "output_type": "display_data"
    }
   ],
   "source": [
    "print_info(\"MTGBAL\")"
   ],
   "metadata": {
    "collapsed": false,
    "pycharm": {
     "name": "#%%\n"
    }
   }
  },
  {
   "cell_type": "code",
   "execution_count": 81,
   "outputs": [],
   "source": [
    "df_train[\"MTGBAL\"] = df_train[\"MTGBAL\"].apply(lambda x: np.log(1 + x))\n",
    "df_test[\"MTGBAL\"] = df_test[\"MTGBAL\"].apply(lambda x: np.log(1 + x))\n",
    "feats_n.append(\"MTGBAL\")"
   ],
   "metadata": {
    "collapsed": false,
    "pycharm": {
     "name": "#%%\n"
    }
   }
  },
  {
   "cell_type": "code",
   "execution_count": 82,
   "outputs": [
    {
     "name": "stdout",
     "output_type": "stream",
     "text": [
      "count    5310.000000\n",
      "mean        0.086064\n",
      "std         0.280485\n",
      "min         0.000000\n",
      "50%         0.000000\n",
      "75%         0.000000\n",
      "90%         0.000000\n",
      "max         1.000000\n",
      "Name: NSF, dtype: float64\n",
      "uniq 2\n"
     ]
    },
    {
     "data": {
      "text/plain": "<Figure size 432x288 with 1 Axes>",
      "image/png": "[encoded data removed]"
     },
     "metadata": {
      "needs_background": "light"
     },
     "output_type": "display_data"
    }
   ],
   "source": [
    "print_info(\"NSF\")"
   ],
   "metadata": {
    "collapsed": false,
    "pycharm": {
     "name": "#%%\n"
    }
   }
  },
  {
   "cell_type": "code",
   "execution_count": 83,
   "outputs": [],
   "source": [
    "feats_b.append(\"NSF\")"
   ],
   "metadata": {
    "collapsed": false,
    "pycharm": {
     "name": "#%%\n"
    }
   }
  },
  {
   "cell_type": "code",
   "execution_count": 84,
   "outputs": [
    {
     "name": "stdout",
     "output_type": "stream",
     "text": [
      "count    5310.000000\n",
      "mean        2.321320\n",
      "std        13.934917\n",
      "min         0.000000\n",
      "50%         0.000000\n",
      "75%         0.000000\n",
      "90%         0.000000\n",
      "max       321.100000\n",
      "Name: NSFAMT, dtype: float64\n",
      "uniq 432\n"
     ]
    },
    {
     "data": {
      "text/plain": "<Figure size 432x288 with 1 Axes>",
      "image/png": "[encoded data removed]"
     },
     "metadata": {
      "needs_background": "light"
     },
     "output_type": "display_data"
    }
   ],
   "source": [
    "print_info(\"NSFAMT\")"
   ],
   "metadata": {
    "collapsed": false,
    "pycharm": {
     "name": "#%%\n"
    }
   }
  },
  {
   "cell_type": "code",
   "execution_count": 85,
   "outputs": [],
   "source": [
    "df_train[\"NSFAMT\"] = df_train[\"NSFAMT\"].apply(lambda x: np.log(1 + x))\n",
    "df_test[\"NSFAMT\"] = df_test[\"NSFAMT\"].apply(lambda x: np.log(1 + x))\n",
    "feats_n.append(\"NSFAMT\")"
   ],
   "metadata": {
    "collapsed": false,
    "pycharm": {
     "name": "#%%\n"
    }
   }
  },
  {
   "cell_type": "code",
   "execution_count": 86,
   "outputs": [
    {
     "name": "stdout",
     "output_type": "stream",
     "text": [
      "count    4647.000000\n",
      "mean        0.382828\n",
      "std         1.120961\n",
      "min         0.000000\n",
      "50%         0.000000\n",
      "75%         0.000000\n",
      "90%         1.000000\n",
      "max        13.000000\n",
      "Name: PHONE, dtype: float64\n",
      "uniq 14\n"
     ]
    },
    {
     "data": {
      "text/plain": "<Figure size 432x288 with 1 Axes>",
      "image/png": "[encoded data removed]"
     },
     "metadata": {
      "needs_background": "light"
     },
     "output_type": "display_data"
    }
   ],
   "source": [
    "print_info(\"PHONE\")"
   ],
   "metadata": {
    "collapsed": false,
    "pycharm": {
     "name": "#%%\n"
    }
   }
  },
  {
   "cell_type": "code",
   "execution_count": 87,
   "outputs": [],
   "source": [
    "df_train[\"PHONE\"].fillna(0, inplace=True)\n",
    "df_test[\"PHONE\"].fillna(0, inplace=True)\n",
    "feats_c.append(\"PHONE\")"
   ],
   "metadata": {
    "collapsed": false,
    "pycharm": {
     "name": "#%%\n"
    }
   }
  },
  {
   "cell_type": "code",
   "execution_count": 88,
   "outputs": [
    {
     "name": "stdout",
     "output_type": "stream",
     "text": [
      "count    4647.000000\n",
      "mean        1.072950\n",
      "std         2.829426\n",
      "min         0.000000\n",
      "50%         0.000000\n",
      "75%         0.000000\n",
      "90%         4.000000\n",
      "max        36.000000\n",
      "Name: POS, dtype: float64\n",
      "uniq 29\n"
     ]
    },
    {
     "data": {
      "text/plain": "<Figure size 432x288 with 1 Axes>",
      "image/png": "[encoded data removed]"
     },
     "metadata": {
      "needs_background": "light"
     },
     "output_type": "display_data"
    }
   ],
   "source": [
    "print_info(\"POS\")"
   ],
   "metadata": {
    "collapsed": false,
    "pycharm": {
     "name": "#%%\n"
    }
   }
  },
  {
   "cell_type": "code",
   "execution_count": 89,
   "outputs": [],
   "source": [
    "df_train[\"POS\"].fillna(0, inplace=True)\n",
    "df_test[\"POS\"].fillna(0, inplace=True)\n",
    "feats_n.append(\"POS\")"
   ],
   "metadata": {
    "collapsed": false,
    "pycharm": {
     "name": "#%%\n"
    }
   }
  },
  {
   "cell_type": "code",
   "execution_count": 90,
   "outputs": [
    {
     "name": "stdout",
     "output_type": "stream",
     "text": [
      "count    4647.000000\n",
      "mean       50.241524\n",
      "std       141.494939\n",
      "min         0.000000\n",
      "50%         0.000000\n",
      "75%         0.000000\n",
      "90%       166.932000\n",
      "max      2933.830000\n",
      "Name: POSAMT, dtype: float64\n",
      "uniq 1078\n"
     ]
    },
    {
     "data": {
      "text/plain": "<Figure size 432x288 with 1 Axes>",
      "image/png": "[encoded data removed]"
     },
     "metadata": {
      "needs_background": "light"
     },
     "output_type": "display_data"
    }
   ],
   "source": [
    "print_info(\"POSAMT\")"
   ],
   "metadata": {
    "collapsed": false,
    "pycharm": {
     "name": "#%%\n"
    }
   }
  },
  {
   "cell_type": "code",
   "execution_count": 91,
   "outputs": [],
   "source": [
    "df_train[\"POSAMT\"].fillna(0, inplace=True)\n",
    "df_test[\"POSAMT\"].fillna(0, inplace=True)\n",
    "df_train[\"POSAMT\"] = df_train[\"POSAMT\"].apply(lambda x: np.log(1 + x))\n",
    "df_test[\"POSAMT\"] = df_test[\"POSAMT\"].apply(lambda x: np.log(1 + x))\n",
    "feats_n.append(\"POSAMT\")"
   ],
   "metadata": {
    "collapsed": false,
    "pycharm": {
     "name": "#%%\n"
    }
   }
  },
  {
   "cell_type": "code",
   "execution_count": 92,
   "outputs": [
    {
     "name": "stdout",
     "output_type": "stream",
     "text": [
      "count     5310\n",
      "unique       3\n",
      "top          U\n",
      "freq      2063\n",
      "Name: RES, dtype: object\n",
      "uniq 3\n"
     ]
    },
    {
     "data": {
      "text/plain": "<Figure size 432x288 with 1 Axes>",
      "image/png": "[encoded data removed]"
     },
     "metadata": {
      "needs_background": "light"
     },
     "output_type": "display_data"
    }
   ],
   "source": [
    "print_info(\"RES\")"
   ],
   "metadata": {
    "collapsed": false,
    "pycharm": {
     "name": "#%%\n"
    }
   }
  },
  {
   "cell_type": "code",
   "execution_count": 93,
   "outputs": [],
   "source": [
    "feats_c.append(\"RES\")"
   ],
   "metadata": {
    "collapsed": false,
    "pycharm": {
     "name": "#%%\n"
    }
   }
  },
  {
   "cell_type": "code",
   "execution_count": 94,
   "outputs": [
    {
     "name": "stdout",
     "output_type": "stream",
     "text": [
      "count    5310.000000\n",
      "mean        0.468173\n",
      "std         0.499033\n",
      "min         0.000000\n",
      "50%         0.000000\n",
      "75%         1.000000\n",
      "90%         1.000000\n",
      "max         1.000000\n",
      "Name: SAV, dtype: float64\n",
      "uniq 2\n"
     ]
    },
    {
     "data": {
      "text/plain": "<Figure size 432x288 with 1 Axes>",
      "image/png": "[encoded data removed]"
     },
     "metadata": {
      "needs_background": "light"
     },
     "output_type": "display_data"
    }
   ],
   "source": [
    "print_info(\"SAV\")"
   ],
   "metadata": {
    "collapsed": false,
    "pycharm": {
     "name": "#%%\n"
    }
   }
  },
  {
   "cell_type": "code",
   "execution_count": 95,
   "outputs": [],
   "source": [
    "feats_b.append(\"SAV\")"
   ],
   "metadata": {
    "collapsed": false,
    "pycharm": {
     "name": "#%%\n"
    }
   }
  },
  {
   "cell_type": "code",
   "execution_count": 96,
   "outputs": [
    {
     "name": "stdout",
     "output_type": "stream",
     "text": [
      "count      5310.000000\n",
      "mean       3365.133891\n",
      "std       15613.170370\n",
      "min           0.000000\n",
      "50%           0.000000\n",
      "75%        1196.802500\n",
      "90%        7500.564000\n",
      "max      609587.720000\n",
      "Name: SAVBAL, dtype: float64\n",
      "uniq 2416\n"
     ]
    },
    {
     "data": {
      "text/plain": "<Figure size 432x288 with 1 Axes>",
      "image/png": "[encoded data removed]"
     },
     "metadata": {
      "needs_background": "light"
     },
     "output_type": "display_data"
    }
   ],
   "source": [
    "print_info(\"SAVBAL\")"
   ],
   "metadata": {
    "collapsed": false,
    "pycharm": {
     "name": "#%%\n"
    }
   }
  },
  {
   "cell_type": "code",
   "execution_count": 97,
   "outputs": [],
   "source": [
    "df_train[\"SAVBAL\"] = df_train[\"SAVBAL\"].apply(lambda x: np.log(1 + x))\n",
    "df_test[\"SAVBAL\"] = df_test[\"SAVBAL\"].apply(lambda x: np.log(1 + x))\n",
    "feats_n.append(\"SAVBAL\")"
   ],
   "metadata": {
    "collapsed": false,
    "pycharm": {
     "name": "#%%\n"
    }
   }
  },
  {
   "cell_type": "code",
   "execution_count": 98,
   "outputs": [
    {
     "name": "stdout",
     "output_type": "stream",
     "text": [
      "count    5310.000000\n",
      "mean        0.108286\n",
      "std         0.310771\n",
      "min         0.000000\n",
      "50%         0.000000\n",
      "75%         0.000000\n",
      "90%         1.000000\n",
      "max         1.000000\n",
      "Name: SDB, dtype: float64\n",
      "uniq 2\n"
     ]
    },
    {
     "data": {
      "text/plain": "<Figure size 432x288 with 1 Axes>",
      "image/png": "[encoded data removed]"
     },
     "metadata": {
      "needs_background": "light"
     },
     "output_type": "display_data"
    }
   ],
   "source": [
    "print_info(\"SDB\")"
   ],
   "metadata": {
    "collapsed": false,
    "pycharm": {
     "name": "#%%\n"
    }
   }
  },
  {
   "cell_type": "code",
   "execution_count": 99,
   "outputs": [],
   "source": [
    "feats_b.append(\"SDB\")"
   ],
   "metadata": {
    "collapsed": false,
    "pycharm": {
     "name": "#%%\n"
    }
   }
  },
  {
   "cell_type": "code",
   "execution_count": 100,
   "outputs": [
    {
     "name": "stdout",
     "output_type": "stream",
     "text": [
      "count    5310.000000\n",
      "mean        1.425047\n",
      "std         2.403522\n",
      "min         0.000000\n",
      "50%         0.000000\n",
      "75%         2.000000\n",
      "90%         4.000000\n",
      "max        25.000000\n",
      "Name: TELLER, dtype: float64\n",
      "uniq 23\n"
     ]
    },
    {
     "data": {
      "text/plain": "<Figure size 432x288 with 1 Axes>",
      "image/png": "[encoded data removed]"
     },
     "metadata": {
      "needs_background": "light"
     },
     "output_type": "display_data"
    }
   ],
   "source": [
    "print_info(\"TELLER\")"
   ],
   "metadata": {
    "collapsed": false,
    "pycharm": {
     "name": "#%%\n"
    }
   }
  },
  {
   "cell_type": "code",
   "execution_count": 101,
   "outputs": [],
   "source": [
    "feats_n.append(\"TELLER\")"
   ],
   "metadata": {
    "collapsed": false,
    "pycharm": {
     "name": "#%%\n"
    }
   }
  },
  {
   "cell_type": "code",
   "execution_count": 102,
   "outputs": [
    {
     "name": "stdout",
     "output_type": "stream",
     "text": [
      "['ACCTAGE', 'AGE', 'ATMAMT', 'CCBAL', 'CDBAL', 'CHECKS', 'CRSCORE', 'DDABAL', 'DEP', 'DEPAMT', 'HMVAL', 'ILSBAL', 'INCOME', 'INVBAL', 'IRABAL', 'LOCBAL', 'LORES', 'MMBAL', 'MTGBAL', 'NSFAMT', 'POS', 'POSAMT', 'SAVBAL', 'TELLER']\n",
      "['ATM', 'CASHBK', 'CC', 'CCPURC', 'CD', 'DDA', 'DIRDEP', 'HMOWN', 'ILS', 'INAREA', 'INV', 'IRA', 'LOC', 'MM', 'MMCRED', 'MOVED', 'MTG', 'NSF', 'SAV', 'SDB']\n",
      "['BRANCH', 'PHONE', 'RES']\n"
     ]
    }
   ],
   "source": [
    "print(feats_n)\n",
    "print(feats_b)\n",
    "print(feats_c)"
   ],
   "metadata": {
    "collapsed": false,
    "pycharm": {
     "name": "#%%\n"
    }
   }
  },
  {
   "cell_type": "code",
   "execution_count": 103,
   "outputs": [],
   "source": [
    "df_train[feats_b] = df_train[feats_b].astype(int)\n",
    "df_test[feats_b] = df_test[feats_b].astype(int)\n",
    "\n",
    "for f in feats_c:\n",
    "    m = {k: i for i, k in enumerate(np.unique(df_train[f].values))}\n",
    "    df_train[f] = df_train[f].apply(lambda x: m[x]).astype(int)\n",
    "    df_test[f] = df_test[f].apply(lambda x: m[x]).astype(int)\n",
    "\n",
    "sc = StandardScaler()\n",
    "df_train[feats_n] = sc.fit_transform(df_train[feats_n].astype(float))\n",
    "df_test[feats_n] = sc.transform(df_test[feats_n].astype(float))"
   ],
   "metadata": {
    "collapsed": false,
    "pycharm": {
     "name": "#%%\n"
    }
   }
  },
  {
   "cell_type": "markdown",
   "source": [
    "Fit and score models"
   ],
   "metadata": {
    "collapsed": false,
    "pycharm": {
     "name": "#%% md\n"
    }
   }
  },
  {
   "cell_type": "code",
   "execution_count": 104,
   "outputs": [],
   "source": [
    "seed = 13\n",
    "scorer = make_scorer(roc_auc_score, needs_proba=True)"
   ],
   "metadata": {
    "collapsed": false,
    "pycharm": {
     "name": "#%%\n"
    }
   }
  },
  {
   "cell_type": "code",
   "execution_count": 105,
   "outputs": [
    {
     "data": {
      "text/plain": "0.7775587274668677"
     },
     "execution_count": 105,
     "metadata": {},
     "output_type": "execute_result"
    }
   ],
   "source": [
    "# parameters = {\"class_weight\": [\"balanced\"], \"random_state\": [seed], \"max_iter\": [5000], \"C\": [1e0, 1e1]}\n",
    "# lr = GridSearchCV(LogisticRegression(), parameters, scoring=scorer)\n",
    "# lr.fit(df_train[feats_b + feats_n], df_train[\"INS\"])\n",
    "# lr.best_score_\n",
    "#"
   ],
   "metadata": {
    "collapsed": false,
    "pycharm": {
     "name": "#%%\n"
    }
   }
  },
  {
   "cell_type": "code",
   "execution_count": 106,
   "outputs": [
    {
     "data": {
      "text/plain": "0.7677827240751209"
     },
     "execution_count": 106,
     "metadata": {},
     "output_type": "execute_result"
    }
   ],
   "source": [
    "# parameters = {\n",
    "#     \"class_weight\": [\"balanced\"], \"random_state\": [seed], \"max_iter\": [5000], \"probability\": [True], \"C\": [1e0, 1e1]}\n",
    "# svc = GridSearchCV(svm.SVC(), parameters, scoring=scorer)\n",
    "# svc.fit(df_train[feats_b + feats_n], df_train[\"INS\"])\n",
    "# svc.best_score_\n",
    "#"
   ],
   "metadata": {
    "collapsed": false,
    "pycharm": {
     "name": "#%%\n"
    }
   }
  },
  {
   "cell_type": "code",
   "execution_count": 107,
   "outputs": [
    {
     "name": "stdout",
     "output_type": "stream",
     "text": [
      "0.7912144337667233\n",
      "{'class_weight': 'balanced', 'learning_rate': 0.06, 'n_estimators': 60, 'objective': 'binary', 'random_state': 13, 'reg_alpha': 1, 'reg_lambda': 1}\n"
     ]
    }
   ],
   "source": [
    "# parameters = {\n",
    "#     \"class_weight\": [\"balanced\"], \"random_state\": [seed], \"objective\": [\"binary\"],\n",
    "#     \"n_estimators\": list(range(20, 100, 10)), \"learning_rate\": [x * 1e-2 for x in range(5, 12)],\n",
    "#     \"reg_alpha\": [0, 0.1, 0.5, 1], \"reg_lambda\": [0, 0.1, 0.5, 1]}\n",
    "# lgbm = GridSearchCV(LGBMClassifier(), parameters, scoring=scorer)\n",
    "# lgbm.fit(df_train[feats_b + feats_n + feats_c], df_train[\"INS\"], categorical_feature=feats_c)\n",
    "# print(lgbm.best_score_)\n",
    "# print(lgbm.best_params_)"
   ],
   "metadata": {
    "collapsed": false,
    "pycharm": {
     "name": "#%%\n"
    }
   }
  },
  {
   "cell_type": "code",
   "execution_count": 108,
   "outputs": [],
   "source": [
    "best_params = {'class_weight': 'balanced', 'learning_rate': 0.06, 'n_estimators': 60, 'objective': 'binary',\n",
    "               'random_state': 42, 'reg_alpha': 1, 'reg_lambda': 1}\n",
    "lgbm = LGBMClassifier()\n",
    "lgbm.set_params(**best_params);"
   ],
   "metadata": {
    "collapsed": false,
    "pycharm": {
     "name": "#%%\n"
    }
   }
  },
  {
   "cell_type": "code",
   "execution_count": 109,
   "outputs": [
    {
     "data": {
      "text/plain": "0.8932247503297532"
     },
     "execution_count": 109,
     "metadata": {},
     "output_type": "execute_result"
    }
   ],
   "source": [
    "lgbm.fit(df_train[feats_b + feats_n + feats_c], df_train[\"INS\"], categorical_feature=feats_c)\n",
    "y_pred = lgbm.predict_proba(df_train[feats_b + feats_n + feats_c])[:, 1]\n",
    "roc_auc_score(df_train[\"INS\"], y_pred)"
   ],
   "metadata": {
    "collapsed": false,
    "pycharm": {
     "name": "#%%\n"
    }
   }
  },
  {
   "cell_type": "code",
   "execution_count": 110,
   "outputs": [
    {
     "data": {
      "text/plain": "0.8932247503297532"
     },
     "execution_count": 110,
     "metadata": {},
     "output_type": "execute_result"
    }
   ],
   "source": [
    "y_pred = lgbm.predict_proba(df_test[feats_b + feats_n + feats_c])[:, 1]\n",
    "roc_auc_score(df_test[\"INS\"], y_pred)"
   ],
   "metadata": {
    "collapsed": false,
    "pycharm": {
     "name": "#%%\n"
    }
   }
  }
 ],
 "metadata": {
  "kernelspec": {
   "display_name": "Python 3",
   "language": "python",
   "name": "python3"
  },
  "language_info": {
   "codemirror_mode": {
    "name": "ipython",
    "version": 2
   },
   "file_extension": ".py",
   "mimetype": "text/x-python",
   "name": "python",
   "nbconvert_exporter": "python",
   "pygments_lexer": "ipython2",
   "version": "2.7.6"
  }
 },
 "nbformat": 4,
 "nbformat_minor": 0
}