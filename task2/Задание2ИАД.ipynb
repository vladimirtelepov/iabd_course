{
 "nbformat": 4,
 "nbformat_minor": 0,
 "metadata": {
  "colab": {
   "name": "Задание2ИАД.ipynb",
   "provenance": [],
   "collapsed_sections": []
  },
  "kernelspec": {
   "name": "python3",
   "language": "python",
   "display_name": "Python 3 (ipykernel)"
  },
  "language_info": {
   "name": "python"
  }
 },
 "cells": [
  {
   "cell_type": "markdown",
   "source": [
    "### Импорт библиотек"
   ],
   "metadata": {
    "id": "BvlBvTDIn371"
   }
  },
  {
   "cell_type": "code",
   "execution_count": 1,
   "metadata": {
    "id": "VB-0IuuFnwtp"
   },
   "outputs": [],
   "source": [
    "# Импорт библиотек для проведения расчетов\n",
    "import pandas as pd\n",
    "import numpy as np\n",
    "from sklearn.preprocessing import StandardScaler"
   ]
  },
  {
   "cell_type": "code",
   "source": [
    "# Импорт библиотек для кластеризации\n",
    "# Документация: https://scikit-learn.org/stable/modules/clustering.html\n",
    "from sklearn.cluster import AgglomerativeClustering\n",
    "from sklearn.cluster import KMeans\n",
    "from scipy.cluster.hierarchy import dendrogram"
   ],
   "metadata": {
    "id": "Jxxp7XH0n87Z"
   },
   "execution_count": 2,
   "outputs": []
  },
  {
   "cell_type": "code",
   "source": [
    "# Импорт библиотек для визуализации\n",
    "from matplotlib import pyplot as plt\n",
    "import seaborn as sns"
   ],
   "metadata": {
    "id": "waEHhJ88dGHf"
   },
   "execution_count": 3,
   "outputs": []
  },
  {
   "cell_type": "code",
   "source": [
    "# Библиотека для построения Self-Organizing Maps: sklearn-som\n",
    "# Документация библиотеки: https://sklearn-som.readthedocs.io/en/latest/index.html\n",
    "\n",
    "# ! python3.7 -m pip install sklearn-som\n",
    "from sklearn_som.som import SOM"
   ],
   "metadata": {
    "id": "Y_TfgESJWnFM",
    "colab": {
     "base_uri": "https://localhost:8080/",
     "height": 339
    },
    "outputId": "e73d3e6d-3a66-4779-ab1d-4610743d9941"
   },
   "execution_count": 4,
   "outputs": []
  },
  {
   "cell_type": "markdown",
   "source": [
    "## Загрузка данных"
   ],
   "metadata": {
    "id": "E79qR3s7n_1X"
   }
  },
  {
   "cell_type": "code",
   "source": [
    "# Указываем путь к файлу\n",
    "# При работе с google colab существует 2 варианта загрузки файла:\n",
    "# 1. Через google drive\n",
    "# 2. Через левое меню: \"файлы\" -> \"загрузить в сессионное хранилище\" -> \"скопировать файл\" (при наведении на файл)\n",
    "file_path = 'baseball.sas7bdat'"
   ],
   "metadata": {
    "id": "jtYmPhhDoCQI"
   },
   "execution_count": 5,
   "outputs": []
  },
  {
   "cell_type": "code",
   "source": [
    "# Загружаем данные из SAS файла\n",
    "df = pd.read_sas(file_path, encoding='latin-1')\n",
    "# Пример данных\n",
    "df.head()"
   ],
   "metadata": {
    "id": "E8LgzOBwoKsT"
   },
   "execution_count": 6,
   "outputs": [
    {
     "data": {
      "text/plain": "                Name       Team  nAtBat  nHits  nHome  nRuns  nRBI   nBB  \\\n0     Allanson, Andy  Cleveland   293.0   66.0    1.0   30.0  29.0  14.0   \n1        Ashby, Alan    Houston   315.0   81.0    7.0   24.0  38.0  39.0   \n2        Davis, Alan    Seattle   479.0  130.0   18.0   66.0  72.0  76.0   \n3      Dawson, Andre   Montreal   496.0  141.0   20.0   65.0  78.0  37.0   \n4  Galarraga, Andres   Montreal   321.0   87.0   10.0   39.0  42.0  30.0   \n\n   YrMajor  CrAtBat  ...   CrBB    League  Division  Position  nOuts nAssts  \\\n0      1.0    293.0  ...   14.0  American      East         C  446.0   33.0   \n1     14.0   3449.0  ...  375.0  National      West         C  632.0   43.0   \n2      3.0   1624.0  ...  263.0  American      West        1B  880.0   82.0   \n3     11.0   5628.0  ...  354.0  National      East        RF  200.0   11.0   \n4      2.0    396.0  ...   33.0  National      East        1B  805.0   40.0   \n\n  nError Salary  Div  logSalary  \n0   20.0    NaN   AE        NaN  \n1   10.0  475.0   NW   6.163315  \n2   14.0  480.0   AW   6.173786  \n3    3.0  500.0   NE   6.214608  \n4    4.0   91.5   NE   4.516339  \n\n[5 rows x 24 columns]",
      "text/html": "<div>\n<style scoped>\n    .dataframe tbody tr th:only-of-type {\n        vertical-align: middle;\n    }\n\n    .dataframe tbody tr th {\n        vertical-align: top;\n    }\n\n    .dataframe thead th {\n        text-align: right;\n    }\n</style>\n<table border=\"1\" class=\"dataframe\">\n  <thead>\n    <tr style=\"text-align: right;\">\n      <th></th>\n      <th>Name</th>\n      <th>Team</th>\n      <th>nAtBat</th>\n      <th>nHits</th>\n      <th>nHome</th>\n      <th>nRuns</th>\n      <th>nRBI</th>\n      <th>nBB</th>\n      <th>YrMajor</th>\n      <th>CrAtBat</th>\n      <th>...</th>\n      <th>CrBB</th>\n      <th>League</th>\n      <th>Division</th>\n      <th>Position</th>\n      <th>nOuts</th>\n      <th>nAssts</th>\n      <th>nError</th>\n      <th>Salary</th>\n      <th>Div</th>\n      <th>logSalary</th>\n    </tr>\n  </thead>\n  <tbody>\n    <tr>\n      <th>0</th>\n      <td>Allanson, Andy</td>\n      <td>Cleveland</td>\n      <td>293.0</td>\n      <td>66.0</td>\n      <td>1.0</td>\n      <td>30.0</td>\n      <td>29.0</td>\n      <td>14.0</td>\n      <td>1.0</td>\n      <td>293.0</td>\n      <td>...</td>\n      <td>14.0</td>\n      <td>American</td>\n      <td>East</td>\n      <td>C</td>\n      <td>446.0</td>\n      <td>33.0</td>\n      <td>20.0</td>\n      <td>NaN</td>\n      <td>AE</td>\n      <td>NaN</td>\n    </tr>\n    <tr>\n      <th>1</th>\n      <td>Ashby, Alan</td>\n      <td>Houston</td>\n      <td>315.0</td>\n      <td>81.0</td>\n      <td>7.0</td>\n      <td>24.0</td>\n      <td>38.0</td>\n      <td>39.0</td>\n      <td>14.0</td>\n      <td>3449.0</td>\n      <td>...</td>\n      <td>375.0</td>\n      <td>National</td>\n      <td>West</td>\n      <td>C</td>\n      <td>632.0</td>\n      <td>43.0</td>\n      <td>10.0</td>\n      <td>475.0</td>\n      <td>NW</td>\n      <td>6.163315</td>\n    </tr>\n    <tr>\n      <th>2</th>\n      <td>Davis, Alan</td>\n      <td>Seattle</td>\n      <td>479.0</td>\n      <td>130.0</td>\n      <td>18.0</td>\n      <td>66.0</td>\n      <td>72.0</td>\n      <td>76.0</td>\n      <td>3.0</td>\n      <td>1624.0</td>\n      <td>...</td>\n      <td>263.0</td>\n      <td>American</td>\n      <td>West</td>\n      <td>1B</td>\n      <td>880.0</td>\n      <td>82.0</td>\n      <td>14.0</td>\n      <td>480.0</td>\n      <td>AW</td>\n      <td>6.173786</td>\n    </tr>\n    <tr>\n      <th>3</th>\n      <td>Dawson, Andre</td>\n      <td>Montreal</td>\n      <td>496.0</td>\n      <td>141.0</td>\n      <td>20.0</td>\n      <td>65.0</td>\n      <td>78.0</td>\n      <td>37.0</td>\n      <td>11.0</td>\n      <td>5628.0</td>\n      <td>...</td>\n      <td>354.0</td>\n      <td>National</td>\n      <td>East</td>\n      <td>RF</td>\n      <td>200.0</td>\n      <td>11.0</td>\n      <td>3.0</td>\n      <td>500.0</td>\n      <td>NE</td>\n      <td>6.214608</td>\n    </tr>\n    <tr>\n      <th>4</th>\n      <td>Galarraga, Andres</td>\n      <td>Montreal</td>\n      <td>321.0</td>\n      <td>87.0</td>\n      <td>10.0</td>\n      <td>39.0</td>\n      <td>42.0</td>\n      <td>30.0</td>\n      <td>2.0</td>\n      <td>396.0</td>\n      <td>...</td>\n      <td>33.0</td>\n      <td>National</td>\n      <td>East</td>\n      <td>1B</td>\n      <td>805.0</td>\n      <td>40.0</td>\n      <td>4.0</td>\n      <td>91.5</td>\n      <td>NE</td>\n      <td>4.516339</td>\n    </tr>\n  </tbody>\n</table>\n<p>5 rows × 24 columns</p>\n</div>"
     },
     "execution_count": 6,
     "metadata": {},
     "output_type": "execute_result"
    }
   ]
  },
  {
   "cell_type": "markdown",
   "source": [
    "## Формирование признакового пространства"
   ],
   "metadata": {
    "id": "qCivzh6gdP9O"
   }
  },
  {
   "cell_type": "code",
   "source": [
    "# Сформируем признаковое пространство:\n",
    "# 1. YrMajor - число лет в лиге\n",
    "# 2. Признаки с префиксом \"n\" - результаты 1986 года \n",
    "# 3. Признаки с префиксом \"сr\"  - результаты за всю карьеру\n",
    "\n",
    "results_1986 = [c for c in df.columns if c[0] == \"n\"]\n",
    "results_all = [c for c in df.columns if c[:2] == \"Cr\"]\n",
    "sign_features = ['YrMajor'] + results_1986 + results_all"
   ],
   "metadata": {
    "id": "G2gwVV3roqCP"
   },
   "execution_count": 7,
   "outputs": []
  },
  {
   "cell_type": "code",
   "source": [
    "# Стандартизация признаков (вставьте свой код)\n",
    "scaler = StandardScaler()\n",
    "X = df.loc[:, sign_features]\n",
    "X = pd.DataFrame(scaler.fit_transform(X), columns=sign_features)"
   ],
   "metadata": {
    "id": "ASBOvjli0_pY"
   },
   "execution_count": 8,
   "outputs": []
  },
  {
   "cell_type": "markdown",
   "source": [
    "## Часть 1: Иерархическая кластеризация и K-means"
   ],
   "metadata": {
    "id": "19aqZ0e8om5w"
   }
  },
  {
   "cell_type": "code",
   "source": [
    "# Обучим модель Иерархической кластеризации\n",
    "clustering = AgglomerativeClustering(compute_distances = True, distance_threshold = 0.0, n_clusters = None).fit(X)"
   ],
   "metadata": {
    "id": "JtRnhN77t9F7"
   },
   "execution_count": 9,
   "outputs": []
  },
  {
   "cell_type": "code",
   "source": [
    "# Визуализация дендрограммы\n",
    "def plot_dendrogram(model, **kwargs):\n",
    "    # Создаем матрицу связности\n",
    "\n",
    "    # Рассчитываем количество наблюдений в каждой вершине\n",
    "    counts = np.zeros(model.children_.shape[0])\n",
    "    n_samples = len(model.labels_)\n",
    "    for i, merge in enumerate(model.children_):\n",
    "        current_count = 0\n",
    "        for child_idx in merge:\n",
    "            if child_idx < n_samples:\n",
    "                current_count += 1  # Лист\n",
    "            else:\n",
    "                current_count += counts[child_idx - n_samples]\n",
    "        counts[i] = current_count\n",
    "\n",
    "    linkage_matrix = np.column_stack(\n",
    "        [model.children_, model.distances_, counts]\n",
    "    ).astype(float)\n",
    "\n",
    "    fig, axes = plt.subplots(1, 1, figsize=(12, 10))\n",
    "    dendrogram(linkage_matrix, **kwargs, show_leaf_counts = True)\n",
    "\n",
    "plot_dendrogram(clustering, truncate_mode=\"level\", p=3)"
   ],
   "metadata": {
    "id": "A8mtYwZmX0Pb"
   },
   "execution_count": 10,
   "outputs": [
    {
     "data": {
      "text/plain": "<Figure size 864x720 with 1 Axes>",
      "image/png": "[encoded data removed]"
     },
     "metadata": {
      "needs_background": "light"
     },
     "output_type": "display_data"
    }
   ]
  },
  {
   "cell_type": "code",
   "source": [
    "# Выберем число кластеров на основе псевдо критерия Фишера\n",
    "\n",
    "def sum_dist_to_center(X):\n",
    "    center = np.mean(X, axis = 0)\n",
    "    return ((X - center)**2).values.sum()\n",
    "\n",
    "def choose_num_clusters(X, max_clust = 30):\n",
    "    N = X.shape[0]\n",
    "    Q = sum_dist_to_center(X)\n",
    "    pseudo_f = np.array([])\n",
    "    for G in range(2, max_clust):\n",
    "        clustering = AgglomerativeClustering(compute_distances = True, n_clusters = G).fit(X)\n",
    "        W = 0\n",
    "        for l in range(G):\n",
    "            elems = X[clustering.labels_ == l]\n",
    "            W += sum_dist_to_center(elems)\n",
    "        fisher_stat = ((Q - W)/(G - 1))/(W/(N - G))\n",
    "        pseudo_f = np.append(pseudo_f, fisher_stat)\n",
    "    plt.plot(range(2, max_clust), pseudo_f)\n",
    "    return np.argmax(pseudo_f)+2, pseudo_f\n",
    "\n",
    "k, pseudo_f = choose_num_clusters(X)\n",
    "clustering = KMeans(n_clusters=k, random_state=0).fit(X)\n",
    "label = clustering.labels_"
   ],
   "metadata": {
    "id": "JSQAs4FAu0ir"
   },
   "execution_count": 11,
   "outputs": [
    {
     "data": {
      "text/plain": "<Figure size 432x288 with 1 Axes>",
      "image/png": "[encoded data removed]"
     },
     "metadata": {
      "needs_background": "light"
     },
     "output_type": "display_data"
    }
   ]
  },
  {
   "cell_type": "markdown",
   "source": [
    "### Ответить на следующие вопросы:\n",
    "\n",
    "#### 1.   Сколько кластеров было выбрано на основе псевдо критерия Фишера?\n",
    "#### 2.   Используя информацию из графика, ответьте на вопросы:\n",
    "> 1.   Каково значение критерия для выбранного числа кластеров?\n",
    "> 2.   А для числа кластеров на один больше и на один меньше?"
   ],
   "metadata": {
    "id": "xGNanz111FaC"
   }
  },
  {
   "cell_type": "markdown",
   "source": [
    "#### Q1"
   ],
   "metadata": {
    "collapsed": false,
    "pycharm": {
     "name": "#%% md\n"
    }
   }
  },
  {
   "cell_type": "code",
   "execution_count": 12,
   "outputs": [
    {
     "data": {
      "text/plain": "3"
     },
     "execution_count": 12,
     "metadata": {},
     "output_type": "execute_result"
    }
   ],
   "source": [
    "k"
   ],
   "metadata": {
    "collapsed": false,
    "pycharm": {
     "name": "#%%%\n"
    }
   }
  },
  {
   "cell_type": "markdown",
   "source": [
    "#### Q2.1"
   ],
   "metadata": {
    "collapsed": false
   }
  },
  {
   "cell_type": "code",
   "execution_count": 13,
   "outputs": [
    {
     "data": {
      "text/plain": "121.61624755184556"
     },
     "execution_count": 13,
     "metadata": {},
     "output_type": "execute_result"
    }
   ],
   "source": [
    "pseudo_f[k - 2]"
   ],
   "metadata": {
    "collapsed": false,
    "pycharm": {
     "name": "#%%% md\n"
    }
   }
  },
  {
   "cell_type": "markdown",
   "source": [
    "#### Q2.2"
   ],
   "metadata": {
    "collapsed": false,
    "pycharm": {
     "name": "#%% md\n"
    }
   }
  },
  {
   "cell_type": "code",
   "execution_count": 14,
   "outputs": [
    {
     "data": {
      "text/plain": "(119.5692901945296, 106.4084884247154)"
     },
     "execution_count": 14,
     "metadata": {},
     "output_type": "execute_result"
    }
   ],
   "source": [
    "pseudo_f[k - 3], pseudo_f[k - 1]"
   ],
   "metadata": {
    "collapsed": false,
    "pycharm": {
     "name": "#%%% md\n"
    }
   }
  },
  {
   "cell_type": "markdown",
   "source": [
    "## Часть 2: SOM"
   ],
   "metadata": {
    "id": "RfBkKoFpM20W"
   }
  },
  {
   "cell_type": "code",
   "source": [
    "# Обучаем Self-Organizing Map с размером сетки 3 на 1\n",
    "baseball_som = SOM(m=3, n=1, dim = X.shape[1])\n",
    "baseball_som.fit(X.to_numpy())\n",
    "\n",
    "labels = baseball_som.predict(X.to_numpy())"
   ],
   "metadata": {
    "id": "9P6SFu1WNcRv"
   },
   "execution_count": 15,
   "outputs": []
  },
  {
   "cell_type": "code",
   "source": [
    "## Дополнительно #\n",
    "## Значения признаков по кластерам удобно визуализировать с помощью barplot\n",
    "## Нужное раскомментировать\n",
    "\n",
    "## 1. В терминах matplotlib \n",
    "# plt.bar(labels, X[\"CrBB\"])\n",
    "# plt.ylabel(\"CrBB\")\n",
    "# plt.xlabel(\"cluster\")\n",
    "\n",
    "## 2. В терминах seaborn (+ доверительные интервалы)\n",
    "sns.barplot(x = labels, y = X[\"CrBB\"], capsize = 0.1)"
   ],
   "metadata": {
    "id": "ZLzqFb1n2PdE"
   },
   "execution_count": 16,
   "outputs": [
    {
     "data": {
      "text/plain": "<AxesSubplot:ylabel='CrBB'>"
     },
     "execution_count": 16,
     "metadata": {},
     "output_type": "execute_result"
    },
    {
     "data": {
      "text/plain": "<Figure size 432x288 with 1 Axes>",
      "image/png": "[encoded data removed]"
     },
     "metadata": {
      "needs_background": "light"
     },
     "output_type": "display_data"
    }
   ]
  },
  {
   "cell_type": "markdown",
   "source": [
    "## Часть 3: Анализ кластеров\n",
    "\n",
    "## Построить модели:\n",
    "> Для части 1: выбор количества кластеров на основе иерархической кластеризации с последующим обучение k-means\n",
    "\n",
    "> Для части 2: обучение SOM с размером сетки 2 на 2 \n",
    "\n",
    "## Ответить на следующие вопросы для каждой построенной модели\n",
    "> Вариант I: Какой кластер содержит самых опытных игроков (переменная YrMajor)? \n",
    "> Вариант II: Какой кластер содержит самых успешных по хитам в 1986 году игроков (переменная nHits)?\n",
    "> 1.\tСколько человек попало в этот кластер? \n",
    "> 2.    Как зовут самого типичного игрока в кластере вашего варианта (у него должно быть минимальное расстояние до центра вашего кластера)?"
   ],
   "metadata": {
    "id": "Nv_XaTZV2Cxr"
   }
  },
  {
   "cell_type": "markdown",
   "source": [
    "#### Q4.0"
   ],
   "metadata": {
    "collapsed": false,
    "pycharm": {
     "name": "#%% md\n"
    }
   }
  },
  {
   "cell_type": "code",
   "execution_count": 17,
   "outputs": [],
   "source": [
    "seed = 42\n",
    "kmeans_l = KMeans(n_clusters=k, random_state=seed).fit_predict(X.to_numpy())\n",
    "som_l = SOM(m=2, n=2, dim=X.shape[1], random_state=seed).fit_predict(X.to_numpy())"
   ],
   "metadata": {
    "collapsed": false,
    "pycharm": {
     "name": "#%%\n"
    }
   }
  },
  {
   "cell_type": "code",
   "execution_count": 18,
   "outputs": [
    {
     "data": {
      "text/plain": "<Figure size 432x288 with 1 Axes>",
      "image/png": "[encoded data removed]"
     },
     "metadata": {
      "needs_background": "light"
     },
     "output_type": "display_data"
    }
   ],
   "source": [
    "sns.barplot(x = kmeans_l, y = X[\"nHits\"], capsize = 0.1);"
   ],
   "metadata": {
    "collapsed": false,
    "pycharm": {
     "name": "#%%\n"
    }
   }
  },
  {
   "cell_type": "code",
   "execution_count": 19,
   "outputs": [
    {
     "data": {
      "text/plain": "<Figure size 432x288 with 1 Axes>",
      "image/png": "[encoded data removed]"
     },
     "metadata": {
      "needs_background": "light"
     },
     "output_type": "display_data"
    }
   ],
   "source": [
    "sns.barplot(x = som_l, y = X[\"nHits\"], capsize = 0.1);"
   ],
   "metadata": {
    "collapsed": false,
    "pycharm": {
     "name": "#%%\n"
    }
   }
  },
  {
   "cell_type": "markdown",
   "source": [
    "Т.к преобразование признаков было линейное, то достаточно посмотреть средние значения nHeats по кластерам.\n",
    "\n",
    "Для модели kmeans 1-й кластер(из 3) содержит самых успешных по хитам в 1986 году игроков.\n",
    "\n",
    "Для модели som 2-й кластер(из 4) содержит самых успешных по хитам в 1986 году игроков."
   ],
   "metadata": {
    "collapsed": false,
    "pycharm": {
     "name": "#%% md\n"
    }
   }
  },
  {
   "cell_type": "markdown",
   "source": [
    "#### Q4.1"
   ],
   "metadata": {
    "collapsed": false,
    "pycharm": {
     "name": "#%% md\n"
    }
   }
  },
  {
   "cell_type": "code",
   "execution_count": 20,
   "outputs": [
    {
     "data": {
      "text/plain": "118"
     },
     "execution_count": 20,
     "metadata": {},
     "output_type": "execute_result"
    }
   ],
   "source": [
    "kmeans_x = X[kmeans_l == 0]\n",
    "kmeans_names = df[\"Name\"][kmeans_l == 0]\n",
    "len(kmeans_x)"
   ],
   "metadata": {
    "collapsed": false,
    "pycharm": {
     "name": "#%%\n"
    }
   }
  },
  {
   "cell_type": "code",
   "execution_count": 21,
   "outputs": [
    {
     "data": {
      "text/plain": "96"
     },
     "execution_count": 21,
     "metadata": {},
     "output_type": "execute_result"
    }
   ],
   "source": [
    "som_x = X[som_l == 1]\n",
    "som_names = df[\"Name\"][som_l == 0]\n",
    "len(som_x)"
   ],
   "metadata": {
    "collapsed": false,
    "pycharm": {
     "name": "#%%\n"
    }
   }
  },
  {
   "cell_type": "markdown",
   "source": [
    "#### Q4.2"
   ],
   "metadata": {
    "collapsed": false,
    "pycharm": {
     "name": "#%% md\n"
    }
   }
  },
  {
   "cell_type": "code",
   "execution_count": 22,
   "outputs": [
    {
     "name": "stdout",
     "output_type": "stream",
     "text": [
      "Davis, Mike\n"
     ]
    }
   ],
   "source": [
    "def closest_to_center(X):\n",
    "    center = X.mean(axis=0)\n",
    "    z = np.argmin(((X - center) ** 2).sum(axis=1))\n",
    "    return z\n",
    "\n",
    "\n",
    "print(kmeans_names.iloc[closest_to_center(kmeans_x.to_numpy())])"
   ],
   "metadata": {
    "collapsed": false,
    "pycharm": {
     "name": "#%%\n"
    }
   }
  },
  {
   "cell_type": "code",
   "execution_count": 23,
   "outputs": [
    {
     "name": "stdout",
     "output_type": "stream",
     "text": [
      "Howell, Jack\n"
     ]
    }
   ],
   "source": [
    "print(som_names.iloc[closest_to_center(som_x.to_numpy())])\n"
   ],
   "metadata": {
    "collapsed": false,
    "pycharm": {
     "name": "#%%\n"
    }
   }
  }
 ]
}